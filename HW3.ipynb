{
 "cells": [
  {
   "cell_type": "markdown",
   "id": "13657420-d90a-49c3-843c-b68eccebeda8",
   "metadata": {},
   "source": [
    "# Part 1"
   ]
  },
  {
   "cell_type": "markdown",
   "id": "00d0cc92-b77e-4274-9bd0-3e813761c2d4",
   "metadata": {},
   "source": [
    "## 1.1"
   ]
  },
  {
   "cell_type": "code",
   "execution_count": 2,
   "id": "eca3207a-268d-4d91-893e-90e63903447d",
   "metadata": {},
   "outputs": [
    {
     "name": "stderr",
     "output_type": "stream",
     "text": [
      "100%|██████████| 400/400 [05:13<00:00,  1.27it/s]\n"
     ]
    }
   ],
   "source": [
    "#Create text file with links (EXECUTE THE NEXT 2 CELLS ONLY ONCE)\n",
    "import requests\n",
    "from bs4 import BeautifulSoup\n",
    "from tqdm import tqdm\n",
    "\n",
    "anime = []\n",
    "\n",
    "for page in tqdm(range(0, 400)):\n",
    "    url = 'https://myanimelist.net/topanime.php?limit=' + str(page * 50)\n",
    "    response = requests.get(url)\n",
    "    \n",
    "    soup = BeautifulSoup(response.text, 'html.parser')\n",
    "    for tag in soup.find_all('tr'):\n",
    "        links = tag.find_all('a')\n",
    "        for link in links:        \n",
    "            if type(link.get('id')) == str and len(link.contents[0]) > 1:\n",
    "                anime.append((link.contents[0], link.get('href')) )\n"
   ]
  },
  {
   "cell_type": "code",
   "execution_count": 3,
   "id": "1eac08f9-f113-40de-b5ae-49bb13d32216",
   "metadata": {},
   "outputs": [],
   "source": [
    "f = open(\"links.txt\", \"w\")\n",
    "for el in anime:\n",
    "    f.write(str(el[1])+'\\n')\n",
    "f.close()\n",
    "#We get 19083 rows, which implies we have less than 20000 animes"
   ]
  },
  {
   "cell_type": "markdown",
   "id": "937ca4fc-d6a3-4868-af1c-b4c13f6da5e8",
   "metadata": {},
   "source": [
    "## 1.2"
   ]
  },
  {
   "cell_type": "code",
   "execution_count": 1,
   "id": "33b42b20-a584-4c50-b9bc-89cec52348cc",
   "metadata": {
    "tags": []
   },
   "outputs": [
    {
     "name": "stderr",
     "output_type": "stream",
     "text": [
      " 17%|█▋        | 3/18 [06:08<28:42, 114.83s/it]"
     ]
    },
    {
     "name": "stdout",
     "output_type": "stream",
     "text": [
      "Last well executed page is 366\n",
      "Last well executed page is 366\n",
      "Last well executed page is 366\n"
     ]
    },
    {
     "name": "stderr",
     "output_type": "stream",
     "text": [
      " 94%|█████████▍| 17/18 [25:00<01:28, 88.29s/it]\n"
     ]
    },
    {
     "ename": "IndexError",
     "evalue": "list index out of range",
     "output_type": "error",
     "traceback": [
      "\u001b[0;31m---------------------------------------------------------------------------\u001b[0m",
      "\u001b[0;31mIndexError\u001b[0m                                Traceback (most recent call last)",
      "\u001b[0;32m<ipython-input-1-38da25c8909d>\u001b[0m in \u001b[0;36m<module>\u001b[0;34m\u001b[0m\n\u001b[1;32m     20\u001b[0m \u001b[0;34m\u001b[0m\u001b[0m\n\u001b[1;32m     21\u001b[0m     \u001b[0;32mfor\u001b[0m \u001b[0mi\u001b[0m \u001b[0;32min\u001b[0m \u001b[0mrange\u001b[0m\u001b[0;34m(\u001b[0m\u001b[0mstart\u001b[0m\u001b[0;34m,\u001b[0m\u001b[0mstart\u001b[0m\u001b[0;34m+\u001b[0m\u001b[0;36m50\u001b[0m\u001b[0;34m)\u001b[0m\u001b[0;34m:\u001b[0m\u001b[0;34m\u001b[0m\u001b[0;34m\u001b[0m\u001b[0m\n\u001b[0;32m---> 22\u001b[0;31m         \u001b[0murl\u001b[0m\u001b[0;34m=\u001b[0m\u001b[0mlines\u001b[0m\u001b[0;34m[\u001b[0m\u001b[0mi\u001b[0m\u001b[0;34m]\u001b[0m\u001b[0;34m\u001b[0m\u001b[0;34m\u001b[0m\u001b[0m\n\u001b[0m\u001b[1;32m     23\u001b[0m         \u001b[0mcheck\u001b[0m \u001b[0;34m=\u001b[0m \u001b[0mrequests\u001b[0m\u001b[0;34m.\u001b[0m\u001b[0mget\u001b[0m\u001b[0;34m(\u001b[0m\u001b[0murl\u001b[0m\u001b[0;34m)\u001b[0m\u001b[0;34m\u001b[0m\u001b[0;34m\u001b[0m\u001b[0m\n\u001b[1;32m     24\u001b[0m \u001b[0;34m\u001b[0m\u001b[0m\n",
      "\u001b[0;31mIndexError\u001b[0m: list index out of range"
     ]
    }
   ],
   "source": [
    "#Download the pages\n",
    "import os\n",
    "import requests\n",
    "from bs4 import BeautifulSoup\n",
    "from tqdm import tqdm\n",
    "from random import randint\n",
    "#multiprocessing library\n",
    "\n",
    "#first open file from which we get links\n",
    "f = open(\"links.txt\",\"r\")\n",
    "lines = f.readlines()\n",
    "\n",
    "for page in tqdm(range(364,382)):\n",
    "    #Manage the directories\n",
    "    os.system(\"mkdir Page\"+str(page+1)) #the (page+1) is to make so we don't have the first element 0 but 1\n",
    "    os.chdir(\"Page\"+str(page+1))\n",
    "    \n",
    "    #These if conditions are needed to have the right indexing of the pages downloaded\n",
    "    start=50*page\n",
    "    \n",
    "    for i in range(start,start+50):\n",
    "        url=lines[i]\n",
    "        check = requests.get(url)\n",
    "        \n",
    "        #Check if the site is blocking the download, start again when we are allowed to\n",
    "        if check.status_code != 200:\n",
    "            print(\"Last well executed page is {}\".format(page-1))\n",
    "            while(check.status_code != 200): #Stop while we can't download\n",
    "                check = requests.get(url)\n",
    "                #next line was just a try of changing the ip when the site would stop the downloads\n",
    "                #in short didn't manage to implement it\n",
    "                #os.system((\"sudo ifconfig lo 127.0.0.{}  netmask 255.0.0.0\").format(randint(0,50))) \n",
    "       \n",
    "        #Save the content of the page \n",
    "        art=open(\"article\"+str(i+1)+'.html',\"wb\")\n",
    "        art.write(check.content)\n",
    "        art.close()\n",
    "    \n",
    "    os.chdir(\"..\")"
   ]
  },
  {
   "cell_type": "markdown",
   "id": "ce311ac6-f9d3-4f29-9143-c73e5812e236",
   "metadata": {},
   "source": [
    "## 1.3"
   ]
  },
  {
   "cell_type": "code",
   "execution_count": 65,
   "id": "84f0fe8d-3c30-4fef-b565-edcf8711c517",
   "metadata": {
    "tags": []
   },
   "outputs": [],
   "source": [
    "import os\n",
    "import requests\n",
    "from bs4 import BeautifulSoup\n",
    "from tqdm import tqdm\n",
    "def Parse2(tsv, soup):\n",
    "    animeTitle,animeType,(animeNumEpisode),(releaseDate),(endDate),(animeNumMembers),(animeScore),(animeUsers),(animeRank),(animePopularity),animeDescription,(animeRelated),(animeCharacters),(animeVoices),(animeStaff)=\"\",\"\",\"\",\"\",\"\",\"\",\"\",\"\",\"\",\"\",\"\",\"\",\"\",\"\",\"\"\n",
    "\n",
    "    left_col=soup.find('div', {'style':\"width: 225px\"})\n",
    "    l_div=left_col.find_all(\"div\",{\"class\":\"spaceit_pad\"})\n",
    "    \n",
    "    start=\"\"\n",
    "    end=\"\"\n",
    "    \n",
    "    for i in range(len(l_div)):\n",
    "        \n",
    "        if \"Type\" in l_div[i].getText():\n",
    "            animeType = l_div[i].getText().replace(\"Type:\",\"\").replace(\"\\n\",\"\").strip()\n",
    "            #print(animeType)\n",
    "            \n",
    "        if \"Episodes\" in l_div[i].getText():\n",
    "            animeNumEpisode = (l_div[i].getText().replace(\"Episodes:\",\"\").replace(\"\\n\",\"\").strip())\n",
    "            if animeNumEpisode==\"Unknown\":\n",
    "                animeNumEpisode=\"\"\n",
    "            #print(animeNumEpisode)\n",
    "        \n",
    "        if \"Aired\" in l_div[i].getText():\n",
    "            if len(l_div[i].getText().replace(\"Aired:\",\"\").replace(\"to\",\"\").strip().split())==6:\n",
    "                start=\" \".join(l_div[i].getText().replace(\"Aired:\",\"\").replace(\",\",\"\").replace(\"to\",\"\").strip().split()[0:3])\n",
    "                end=\" \".join(l_div[i].getText().replace(\"Aired:\",\"\").replace(\",\",\"\").replace(\"to\",\"\").strip().split()[3:6])\n",
    "                start=datetime.strptime(start,\"%b %d %Y\")\n",
    "                end=datetime.strptime(end,\"%b %d %Y\")\n",
    "            if len(l_div[i].getText().replace(\"Aired:\",\"\").replace(\",\",\"\").replace(\"to\",\"\").strip().split())==3 and (\"?\" not in l_div[i].getText().replace(\"Aired:\",\"\").replace(\"to\",\"\").strip().split()):\n",
    "                if len(l_div[i].getText().replace(\"Aired:\",\"\").replace(\",\",\"\").replace(\"to\",\"\").strip().split()[1])!=len(l_div[i].getText().replace(\"Aired:\",\"\").replace(\",\",\"\").replace(\"to\",\"\").strip().split()[2]):\n",
    "                    \n",
    "                    start=\" \".join(l_div[i].getText().replace(\"Aired:\",\"\").replace(\",\",\"\").replace(\"to\",\"\").strip().split()[0:3])\n",
    "                    start=datetime.strptime(start,\"%b %d %Y\")\n",
    "                else:\n",
    "                    start=\"\"\n",
    "            else:\n",
    "                start=end=\"\"\n",
    "            \n",
    "            releaseDate=start\n",
    "            endDate=end\n",
    "            #print(releaseDate)\n",
    "            #print(endDate)\n",
    "            \n",
    "        if (\"Score\" in l_div[i].getText()) and (i!=0) and (\"Ookiku\" not in l_div[i].getText()):\n",
    "            if l_div[i].getText().replace(\"Score:\",\"\").replace(\",\",\"\").split()[3]!=\"-\":\n",
    "                animeUsers = int(l_div[i].getText().replace(\"Score:\",\"\").replace(\",\",\"\").split()[3])\n",
    "                animeScore = float(l_div[i].getText().replace(\"Score:\",\"\").replace(\",\",\"\").split()[0])\n",
    "            #print(animeUsers)\n",
    "            #print(animeScore)\n",
    "        #if \"Ranked\" in l_div[i].getText():#19 >>>> conviene prenderlo da sopra il rank\n",
    "            \n",
    "        if \"Popularity\" in l_div[i].getText():  \n",
    "            animePopularity = int(l_div[i].getText().replace(\"Popularity:\",\"\").strip().replace(\"#\",\"\"))\n",
    "            #print(animePopularity)\n",
    "    \n",
    "        if \"Members\" in l_div[i].getText():\n",
    "            animeNumMembers = int(l_div[i].getText().replace(\"Members:\",\"\").strip().replace(\",\",\"\"))\n",
    "            #print(animeNumMembers)\n",
    "   \n",
    "    \n",
    "    description=soup.find(\"p\",{\"itemprop\":\"description\"})\n",
    "    animeDescription=description.getText().replace(\"\\n\",\"\")\n",
    "    #print(animeDescription)\n",
    "    \n",
    "    #THESE ARE THE SUGGESTED ONES\n",
    "    #rel=[]\n",
    "    #related=soup.find_all(\"li\",{\"class\":\"btn-anime\",\"style\":\"width:90px\"})\n",
    "    #for i in range(len(related)):\n",
    "    #    rel.append(related[i][\"title\"])\n",
    "    #animeRelated = rel\n",
    "    #print(animeRelated)\n",
    "    rel=[]\n",
    "    related=soup.find(\"table\",{\"class\":\"anime_detail_related_anime\"})#.find_all(\"td\",{\"class\":\"borderClass\"})\n",
    "    if (related)!=None:\n",
    "        #print(type(related),related)\n",
    "        related=related.find_all(\"td\",{\"class\":\"borderClass\"})\n",
    "        for i in range(len(related)):\n",
    "            if i%2!=0:\n",
    "                rel.append(related[i].getText())\n",
    "    animeRelated=rel\n",
    "    \n",
    "    chars=[]\n",
    "    voices=[]\n",
    "    staff=[]\n",
    "    l=[]\n",
    "    seed=soup.find_all(\"div\",{\"class\":\"detail-characters-list clearfix\"})\n",
    "    for i in range(len(seed)):\n",
    "        if i==0:\n",
    "            who=soup.find(\"div\",{\"class\":\"detail-characters-list clearfix\"}).find_all(\"img\")\n",
    "            for i in range(len(who)):\n",
    "                if i%2==0:\n",
    "                    chars.append(\",\".join(who[i][\"alt\"].replace(\" \",\"\").split(\",\")))\n",
    "                else:\n",
    "                    voices.append(\",\".join(who[i][\"alt\"].replace(\" \",\"\").split(\",\")))\n",
    "    \n",
    "        if i==1:\n",
    "            if (len(soup.find_all(\"div\",{\"class\":\"detail-characters-list clearfix\"}))>1):\n",
    "                for i in range(len(soup.find_all(\"div\",{\"class\":\"detail-characters-list clearfix\"})[1].find_all(\"img\"))):\n",
    "                    staff.append(soup.find_all(\"div\",{\"class\":\"detail-characters-list clearfix\"})[1].find_all(\"img\")[i][\"alt\"])\n",
    "                    staff.append((soup.find_all(\"div\",{\"class\":\"detail-characters-list clearfix\"})[1].find_all(\"div\", {\"class\":\"spaceit_pad\"}))[i].getText().strip())\n",
    "                    \n",
    "                for i in range(0,2*len(soup.find_all(\"div\",{\"class\":\"detail-characters-list clearfix\"})[1].find_all(\"img\")),2):\n",
    "                    l.append(staff[i:i+2])\n",
    "            \n",
    "            \n",
    "    animeCharacters = chars\n",
    "    animeVoices = voices\n",
    "    animeStaff = l   \n",
    "\n",
    "    #print(animeStaff)\n",
    "    \n",
    "    \n",
    "    animeTitle = soup.find(\"h1\",{\"class\":\"title-name h1_bold_none\"}).getText()\n",
    "    animeRank=soup.find(\"span\",{\"class\":\"numbers ranked\"}).getText().replace(\"Ranked #\",\"\")\n",
    "    if \"N/A\" not in animeRank:\n",
    "        animeRank = int(animeRank)\n",
    "    else:\n",
    "        animeRank=\"\"\n",
    "    tsv.write(\"animeTitle\"+\"\\t\"+\"animeType\"+\"\\t\"+\"animeNumEpisode\"+\"\\t\"+\"releaseDate\"+\"\\t\"+\"endDate\"+\"\\t\"+\"animeNumMembers\"+\"\\t\"+\"animeScore\"+\"\\t\"+\"animeUsers\"+\"\\t\"+\"animeRank\"+\"\\t\"+\"animePopularity\"+\"\\t\"+\"animeDescription\"+\"\\t\"+\"animeRelated\"+\"\\t\"+\"animeCharacters\"+\"\\t\"+\"animeVoices\"+\"\\t\"+\"animeStaff\"+\"\\n\")\n",
    "\n",
    "    tsv.write(animeTitle+\"\\t\"+animeType+\"\\t\"+str(animeNumEpisode)+\"\\t\"+str(releaseDate)+\"\\t\"+str(endDate)+\"\\t\"+str(animeNumMembers)+\"\\t\"+str(animeScore)+\"\\t\"+str(animeUsers)+\"\\t\"+str(animeRank)+\"\\t\"+str(animePopularity)+\"\\t\"+animeDescription+\"\\t\"+str(animeRelated)+\"\\t\"+str(animeCharacters)+\"\\t\"+str(animeVoices)+\"\\t\"+str(animeStaff))\n"
   ]
  },
  {
   "cell_type": "code",
   "execution_count": 70,
   "id": "29c3bddf-4812-46ca-9953-557a65a7827e",
   "metadata": {
    "tags": []
   },
   "outputs": [
    {
     "name": "stderr",
     "output_type": "stream",
     "text": [
      "100%|█████████▉| 381/382 [38:20<00:06,  6.04s/it] \n"
     ]
    },
    {
     "ename": "FileNotFoundError",
     "evalue": "[Errno 2] No such file or directory: 'article19084.html'",
     "output_type": "error",
     "traceback": [
      "\u001b[0;31m---------------------------------------------------------------------------\u001b[0m",
      "\u001b[0;31mFileNotFoundError\u001b[0m                         Traceback (most recent call last)",
      "\u001b[0;32m<ipython-input-70-1b97c06980e2>\u001b[0m in \u001b[0;36m<module>\u001b[0;34m\u001b[0m\n\u001b[1;32m     13\u001b[0m         \u001b[0;31m#Open the articles of the page\u001b[0m\u001b[0;34m\u001b[0m\u001b[0;34m\u001b[0m\u001b[0;34m\u001b[0m\u001b[0m\n\u001b[1;32m     14\u001b[0m         \u001b[0mos\u001b[0m\u001b[0;34m.\u001b[0m\u001b[0mchdir\u001b[0m\u001b[0;34m(\u001b[0m\u001b[0;34m\"Page\"\u001b[0m\u001b[0;34m+\u001b[0m\u001b[0mstr\u001b[0m\u001b[0;34m(\u001b[0m\u001b[0mpage\u001b[0m\u001b[0;34m+\u001b[0m\u001b[0;36m1\u001b[0m\u001b[0;34m)\u001b[0m\u001b[0;34m)\u001b[0m\u001b[0;34m\u001b[0m\u001b[0;34m\u001b[0m\u001b[0m\n\u001b[0;32m---> 15\u001b[0;31m         \u001b[0mart\u001b[0m\u001b[0;34m=\u001b[0m\u001b[0mopen\u001b[0m\u001b[0;34m(\u001b[0m\u001b[0;34m\"article\"\u001b[0m\u001b[0;34m+\u001b[0m\u001b[0mstr\u001b[0m\u001b[0;34m(\u001b[0m\u001b[0mi\u001b[0m\u001b[0;34m+\u001b[0m\u001b[0;36m1\u001b[0m\u001b[0;34m)\u001b[0m\u001b[0;34m+\u001b[0m\u001b[0;34m'.html'\u001b[0m\u001b[0;34m,\u001b[0m\u001b[0;34m\"r\"\u001b[0m\u001b[0;34m)\u001b[0m\u001b[0;34m\u001b[0m\u001b[0;34m\u001b[0m\u001b[0m\n\u001b[0m\u001b[1;32m     16\u001b[0m         \u001b[0mos\u001b[0m\u001b[0;34m.\u001b[0m\u001b[0mchdir\u001b[0m\u001b[0;34m(\u001b[0m\u001b[0;34m\"..\"\u001b[0m\u001b[0;34m)\u001b[0m\u001b[0;34m\u001b[0m\u001b[0;34m\u001b[0m\u001b[0m\n\u001b[1;32m     17\u001b[0m         \u001b[0mos\u001b[0m\u001b[0;34m.\u001b[0m\u001b[0mchdir\u001b[0m\u001b[0;34m(\u001b[0m\u001b[0;34m\"TSV\"\u001b[0m\u001b[0;34m)\u001b[0m\u001b[0;34m\u001b[0m\u001b[0;34m\u001b[0m\u001b[0m\n",
      "\u001b[0;31mFileNotFoundError\u001b[0m: [Errno 2] No such file or directory: 'article19084.html'"
     ]
    }
   ],
   "source": [
    "#PARSING\n",
    "import os\n",
    "import requests\n",
    "from bs4 import BeautifulSoup\n",
    "from tqdm import tqdm\n",
    "from datetime import datetime\n",
    "\n",
    "for page in tqdm(range(0,382)):\n",
    "    \n",
    "    start=50*page\n",
    "    \n",
    "    for i in range(start,start+50):\n",
    "        #Open the articles of the page \n",
    "        os.chdir(\"Page\"+str(page+1))\n",
    "        art=open(\"article\"+str(i+1)+'.html',\"r\")\n",
    "        os.chdir(\"..\")\n",
    "        os.chdir(\"TSV\")\n",
    "        tsv=open(\"anime_\"+str(i+1)+\".tsv\",\"w\")\n",
    "        \n",
    "        soup=BeautifulSoup(art.read(), \"html.parser\") \n",
    "        \n",
    "        Parse2(tsv,soup)\n",
    "        \n",
    "        art.close()\n",
    "        tsv.close()\n",
    "        os.chdir(\"..\")\n"
   ]
  },
  {
   "cell_type": "markdown",
   "id": "86ff8989-abcf-4b0e-8297-0d06348fb60b",
   "metadata": {},
   "source": [
    "# Part 5"
   ]
  },
  {
   "cell_type": "markdown",
   "id": "034823bd-93ec-4d49-b4e3-e7d7b851ae8c",
   "metadata": {},
   "source": [
    "You consult for a personal trainer who has a back-to-back sequence of requests for appointments. A sequence of requests is of the form > 30, 40, 25, 50, 30, 20 where each number is the time that the person who makes the appointment wants to spend. You need to accept some requests, however you need a break between them, so you cannot accept two consecutive requests. For example, [30, 50, 20] is an acceptable solution (of duration 100), but [30, 40, 50, 20] is not, because 30 and 40 are two consecutive appointments. Your goal is to provide to the personal trainer a schedule that maximizes the total length of the accepted appointments. For example, in the previous instance, the optimal solution is [40, 50, 20], of total duration 110.\n",
    "\n",
    "1. Write an algorithm that computes the acceptable solution with the longest possible duration.\n",
    "1. Implement a program that given in input an instance in the form given above, gives the optimal solution.\n"
   ]
  },
  {
   "cell_type": "code",
   "execution_count": 76,
   "id": "2f0d9392-8109-4a9b-b4aa-f3b07b6517d3",
   "metadata": {},
   "outputs": [],
   "source": [
    "#Implementation\n",
    "def computeTime(A):\n",
    "    l=len(A)\n",
    "    if l<=1: return A[0]\n",
    "    count=0\n",
    "    index1=[]\n",
    "    somma=0\n",
    "    index2=[]\n",
    "    for i in range(0,l,2):\n",
    "        count = count + A[i]\n",
    "        index1.append(i)\n",
    "    for j in range(1,l,2):\n",
    "        somma = somma + A[j]\n",
    "        index2.append(j)\n",
    "    if count>somma : return count, index1\n",
    "    elif somma>count : return somma, index2\n",
    "    else: return (\"Both solutions are symmetrical\")\n",
    "        "
   ]
  },
  {
   "cell_type": "code",
   "execution_count": 77,
   "id": "b56ace6e-1ab8-4d05-810f-fb6584de0ecb",
   "metadata": {},
   "outputs": [
    {
     "name": "stdout",
     "output_type": "stream",
     "text": [
      "110 [1, 3, 5]\n"
     ]
    }
   ],
   "source": [
    "A=[30, 40, 25, 50, 30, 20]\n",
    "value,index=computeTime(A)\n",
    "print(value,index)"
   ]
  }
 ],
 "metadata": {
  "kernelspec": {
   "display_name": "Python 3",
   "language": "python",
   "name": "python3"
  },
  "language_info": {
   "codemirror_mode": {
    "name": "ipython",
    "version": 3
   },
   "file_extension": ".py",
   "mimetype": "text/x-python",
   "name": "python",
   "nbconvert_exporter": "python",
   "pygments_lexer": "ipython3",
   "version": "3.8.8"
  }
 },
 "nbformat": 4,
 "nbformat_minor": 5
}
