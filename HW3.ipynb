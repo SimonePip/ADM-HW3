{
 "cells": [
  {
   "cell_type": "code",
   "execution_count": 2,
   "id": "eca3207a-268d-4d91-893e-90e63903447d",
   "metadata": {},
   "outputs": [
    {
     "name": "stderr",
     "output_type": "stream",
     "text": [
      "100%|██████████| 400/400 [05:13<00:00,  1.27it/s]\n"
     ]
    }
   ],
   "source": [
    "#Create text file with links (EXECUTE THE NEXT 2 CELLS ONLY ONCE)\n",
    "import requests\n",
    "from bs4 import BeautifulSoup\n",
    "from tqdm import tqdm\n",
    "\n",
    "anime = []\n",
    "\n",
    "for page in tqdm(range(0, 400)):\n",
    "    url = 'https://myanimelist.net/topanime.php?limit=' + str(page * 50)\n",
    "    response = requests.get(url)\n",
    "    \n",
    "    soup = BeautifulSoup(response.text, 'html.parser')\n",
    "    for tag in soup.find_all('tr'):\n",
    "        links = tag.find_all('a')\n",
    "        for link in links:        \n",
    "            if type(link.get('id')) == str and len(link.contents[0]) > 1:\n",
    "                anime.append((link.contents[0], link.get('href')) )\n"
   ]
  },
  {
   "cell_type": "code",
   "execution_count": 3,
   "id": "1eac08f9-f113-40de-b5ae-49bb13d32216",
   "metadata": {},
   "outputs": [],
   "source": [
    "f = open(\"links.txt\", \"w\")\n",
    "for el in anime:\n",
    "    f.write(str(el[1])+'\\n')\n",
    "f.close()\n",
    "#We get 19083 rows, which implies we have less than 20000 animes"
   ]
  },
  {
   "cell_type": "code",
   "execution_count": 1,
   "id": "33b42b20-a584-4c50-b9bc-89cec52348cc",
   "metadata": {
    "tags": []
   },
   "outputs": [
    {
     "name": "stderr",
     "output_type": "stream",
     "text": [
      " 16%|█▌        | 16/100 [12:21<1:11:54, 51.37s/it]"
     ]
    },
    {
     "name": "stdout",
     "output_type": "stream",
     "text": [
      "Last well executed page is 15\n",
      "Last well executed page is 15\n",
      "Last well executed page is 15\n",
      "Last well executed page is 15\n",
      "Last well executed page is 15\n"
     ]
    },
    {
     "name": "stderr",
     "output_type": "stream",
     "text": [
      " 54%|█████▍    | 54/100 [41:28<34:18, 44.76s/it]  "
     ]
    },
    {
     "name": "stdout",
     "output_type": "stream",
     "text": [
      "Last well executed page is 53\n",
      "Last well executed page is 53\n",
      "Last well executed page is 53\n",
      "Last well executed page is 53\n"
     ]
    },
    {
     "name": "stderr",
     "output_type": "stream",
     "text": [
      " 91%|█████████ | 91/100 [1:12:05<06:37, 44.15s/it]"
     ]
    },
    {
     "name": "stdout",
     "output_type": "stream",
     "text": [
      "Last well executed page is 90\n",
      "Last well executed page is 90\n",
      "Last well executed page is 90\n"
     ]
    },
    {
     "name": "stderr",
     "output_type": "stream",
     "text": [
      "100%|██████████| 100/100 [1:21:24<00:00, 48.85s/it]\n"
     ]
    }
   ],
   "source": [
    "#Download the pages\n",
    "import os\n",
    "import requests\n",
    "from bs4 import BeautifulSoup\n",
    "from tqdm import tqdm\n",
    "from random import randint\n",
    "#multiprocessing library\n",
    "\n",
    "#first open file from which we get links\n",
    "f = open(\"links.txt\",\"r\")\n",
    "lines = f.readlines()\n",
    "\n",
    "for page in tqdm(range(0,100)):\n",
    "    #Manage the directories\n",
    "    os.system(\"mkdir Page\"+str(page+1)) #the (page+1) is to make so we don't have the first element 0 but 1\n",
    "    os.chdir(\"Page\"+str(page+1))\n",
    "    \n",
    "    #These if conditions are needed to have the right indexing of the pages downloaded\n",
    "    if page%2==0: start=page*50\n",
    "    if page%2!=0: start=page*50+50\n",
    "    \n",
    "    for i in range(start,start+50):\n",
    "        url=lines[i]\n",
    "        check = requests.get(url)\n",
    "        \n",
    "        #Check if the site is blocking the download, start again when we are allowed to\n",
    "        if check.status_code != 200:\n",
    "            print(\"Last well executed page is {}\".format(page-1))\n",
    "            while(check.status_code != 200): #Stop while we can't download\n",
    "                check = requests.get(url)\n",
    "                #next line was just a try of changing the ip when the site would stop the downloads\n",
    "                #in short didn't manage to implement it\n",
    "                #os.system((\"sudo ifconfig lo 127.0.0.{}  netmask 255.0.0.0\").format(randint(0,50))) \n",
    "       \n",
    "        #Save the content of the page \n",
    "        art=open(\"article\"+str(i+1)+'.html',\"wb\")\n",
    "        art.write(check.content)\n",
    "        art.close()\n",
    "    \n",
    "    os.chdir(\"..\")"
   ]
  },
  {
   "cell_type": "code",
   "execution_count": 1,
   "id": "c26f684f-3c4d-4831-ba90-a5ef77bfecbd",
   "metadata": {},
   "outputs": [],
   "source": [
    "import re\n",
    "import os\n",
    "import requests\n",
    "from bs4 import BeautifulSoup\n",
    "from tqdm import tqdm\n",
    "from random import randint\n",
    "from datetime import datetime\n",
    "\n",
    "def Parser(art, tsv, soup):\n",
    "    \n",
    "    finder1,finder2,finder3,finder4,finder5,finder6,finder7,finder8,finder9,finder10,finder11,finder12,finder13,finder14,finder15 = \"\",\"\",\"\",\"\",\"\",\"\",\"\",\"\",\"\",\"\",\"\",\"\",\"\",\"\",\"\"\n",
    "    \n",
    "    finder1=str(soup.h1.contents).replace(\"</strong>\",\"\").replace(\"<strong>\",\"\")\n",
    "    animeTitle=finder1 \n",
    "    #print(finder1)\n",
    "    #OK\n",
    "    \n",
    "    finder2=soup.select_one(\"a[href*=type]\").contents[0].strip()\n",
    "    animeType=finder2\n",
    "    #print(finder2)\n",
    "    #OK\n",
    "        \n",
    "    #finder3=int(soup.find_all('div', {'class':\"spaceit_pad\"})[4].getText().split()[1])\n",
    "    for i in range(len(soup.find(\"div\",{\"style\":\"width: 225px\"}).find_all(\"span\",{\"class\":\"dark_text\"}))):\n",
    "        if (soup.find(\"div\",{\"style\":\"width: 225px\"}).find_all(\"div\",{\"class\":\"spaceit_pad\"})[i].contents[1].getText())==\"Episodes\":\n",
    "            finder3=int(soup.find(\"div\",{\"style\":\"width: 225px\"}).find_all(\"div\",{\"class\":\"spaceit_pad\"})[3].getText().strip().split()[1])\n",
    "    animeNumEpisode = finder3\n",
    "    #print(finder3)\n",
    "    #OK\n",
    "    \n",
    "    start=\"\"\n",
    "    end=\"\"\n",
    "    finder4=soup.find_all('div', {'class':\"spaceit_pad\"})[6].getText().split()[1:]\n",
    "    if len(finder4)>3:\n",
    "        start=datetime.strptime(\" \".join(finder4[:3]),\"%b %d, %Y\")\n",
    "        end=datetime.strptime(\" \".join(finder4[4:]), \"%b %d, %Y\")\n",
    "    else:\n",
    "        start=datetime.strptime(\" \".join(finder4[:3]),\"%b %d, %Y\")\n",
    "    \n",
    "    releaseDate=start\n",
    "    endDate=end        \n",
    "    #OK\n",
    "    \n",
    "    #finder5=soup.find_all('div', {'class':\"spaceit_pad\"})[5].getText().strip().split(\"\\n\")[1].replace(\" \",\"\")\n",
    "    #endDate = finder5\n",
    "    #print(finder5)\n",
    "    \n",
    "    \n",
    "    finder6=int(soup.find(\"span\",{\"class\":\"numbers members\"}).getText().replace(\"Members \", \"\").replace(\",\",\"\"))\n",
    "    animeNumMembers = finder6\n",
    "    #print(finder6)\n",
    "    #OK\n",
    "    \n",
    "    finder7=float(soup.find(\"div\",{\"class\":\"score-label score-9\"}).getText())\n",
    "    animeScore = finder7\n",
    "    #print(finder7)\n",
    "    #OK\n",
    "    \n",
    "    \n",
    "    finder8=int(soup.find(\"span\",{\"itemprop\":\"ratingCount\",\"style\":\"display: none\"}).getText())\n",
    "    animeUsers = finder8\n",
    "    #print(finder8)\n",
    "    #OK\n",
    "    \n",
    "    finder9=int(soup.find(\"span\", {\"class\":\"numbers ranked\"}).find(\"strong\").getText().replace(\"#\",\"\"))\n",
    "    animeRank = finder9\n",
    "    #print(finder9)\n",
    "    #OK\n",
    "    \n",
    "    finder10=int(str(soup.find(class_=\"numbers popularity\").text).split('#')[-1])  \n",
    "    animePopularity = finder10\n",
    "    #print(finder10)\n",
    "    #OK\n",
    "    \n",
    "    finder11=soup.find(\"p\",{\"itemprop\":\"description\"}).getText()\n",
    "    animeDescription = finder11.replace(\"/n\",\"\")\n",
    "    #print(finder11)\n",
    "    #OK\n",
    "    \n",
    "    finder12=[]\n",
    "    for i in range(len(soup.find_all(\"li\",{\"class\":\"btn-anime\",\"style\":\"width:90px\"}))):\n",
    "        finder12.append((soup.find_all(\"li\",{\"class\":\"btn-anime\",\"style\":\"width:90px\"}))[i][\"title\"])\n",
    "    animeRelated = finder12\n",
    "    #print(finder12)\n",
    "    #OK\n",
    "    \n",
    "    finder13=[]\n",
    "    finder14=[]\n",
    "    for i in range(len(soup.find(\"div\",{\"class\":\"detail-characters-list clearfix\"}).find_all(\"img\"))):\n",
    "        if i%2==0:\n",
    "            finder13.append(\",\".join(soup.find(\"div\",{\"class\":\"detail-characters-list clearfix\"}).find_all(\"img\")[i][\"alt\"].replace(\" \",\"\").split(\",\")))\n",
    "        else:\n",
    "            finder14.append(\",\".join(soup.find(\"div\",{\"class\":\"detail-characters-list clearfix\"}).find_all(\"img\")[i][\"alt\"].replace(\" \",\"\").split(\",\")))\n",
    "    \n",
    "    animeCharacters = finder13\n",
    "    animeVoices = finder14\n",
    "    #OK\n",
    "    #print(finder13)\n",
    "    #print(finder14)\n",
    "    \n",
    "    finder15=[]\n",
    "    for i in range(len(soup.find_all(\"div\",{\"class\":\"detail-characters-list clearfix\"})[1].find_all(\"img\"))):\n",
    "        finder15.append(soup.find_all(\"div\",{\"class\":\"detail-characters-list clearfix\"})[1].find_all(\"img\")[i][\"alt\"])\n",
    "        finder15.append((soup.find_all(\"div\",{\"class\":\"detail-characters-list clearfix\"})[1].find_all(\"div\", {\"class\":\"spaceit_pad\"}))[i].getText().strip())\n",
    "    l=[]\n",
    "    for i in range(0,len(soup.find_all(\"div\",{\"class\":\"detail-characters-list clearfix\"})[1].find_all(\"img\")),1):\n",
    "        l.append(finder15[i:i+2])\n",
    "    animeStaff = l\n",
    "    #print(finder15)\n",
    "    \n",
    "    tsv.write(animeTitle+\"\\t\"+animeType+\"\\t\"+str(animeNumEpisode)+\"\\t\"+str(releaseDate)+\"\\t\"+str(endDate)+\"\\t\"+str(animeNumMembers)+\"\\t\"+str(animeScore)+\"\\t\"+str(animeUsers)+\"\\t\"+str(animeRank)+\"\\t\"+str(animePopularity)+\"\\t\"+animeDescription+\"\\t\"+str(animeRelated)+\"\\t\"+str(animeCharacters)+\"\\t\"+str(animeVoices)+\"\\t\"+str(animeStaff))\n",
    "    "
   ]
  },
  {
   "cell_type": "code",
   "execution_count": 25,
   "id": "e4a6854f-eae9-4a37-93fc-05e8b29dafff",
   "metadata": {},
   "outputs": [
    {
     "data": {
      "text/plain": [
       "['\\n',\n",
       " <span class=\"dark_text\">Aired:</span>,\n",
       " '\\n  Apr 29, 2019 to Jul 1, 2019\\n  ']"
      ]
     },
     "execution_count": 25,
     "metadata": {},
     "output_type": "execute_result"
    }
   ],
   "source": [
    "import os\n",
    "import requests\n",
    "from bs4 import BeautifulSoup\n",
    "from tqdm import tqdm\n",
    "\n",
    "#os.chdir(\"..\")\n",
    "\n",
    "#os.chdir(\"Page1\")\n",
    "art=open(\"article3.html\")\n",
    "tsv=open(\"anime_3.tsv\",\"w\")\n",
    "soup=BeautifulSoup(art, \"html.parser\")                                   \n",
    "#Parser(art,tsv,soup)\n",
    "#<div style=\"width: 225px\">\n",
    "#for i in range(len(len(soup.find_all('div', {'class':\"spaceit_pad\"})))\n",
    "#    if len(soup.find_all('div', {'class':\"spaceit_pad\"})[i].getText().split()[1:])==7:\n",
    "#        print(\"Ok\")\n",
    "\n",
    "soup.find_all('div', {'class':\"spaceit_pad\"})[5].contents\n",
    "#os.chdir(\"..\")"
   ]
  },
  {
   "cell_type": "code",
   "execution_count": 2,
   "id": "29c3bddf-4812-46ca-9953-557a65a7827e",
   "metadata": {},
   "outputs": [
    {
     "name": "stderr",
     "output_type": "stream",
     "text": [
      "  0%|          | 0/10 [00:00<?, ?it/s]\n"
     ]
    },
    {
     "ename": "ValueError",
     "evalue": "time data 'Spring 2019' does not match format '%b %d, %Y'",
     "output_type": "error",
     "traceback": [
      "\u001b[0;31m---------------------------------------------------------------------------\u001b[0m",
      "\u001b[0;31mValueError\u001b[0m                                Traceback (most recent call last)",
      "\u001b[0;32m<ipython-input-2-6ad2c209b115>\u001b[0m in \u001b[0;36m<module>\u001b[0;34m\u001b[0m\n\u001b[1;32m     24\u001b[0m         \u001b[0msoup\u001b[0m\u001b[0;34m=\u001b[0m\u001b[0mBeautifulSoup\u001b[0m\u001b[0;34m(\u001b[0m\u001b[0mart\u001b[0m\u001b[0;34m.\u001b[0m\u001b[0mread\u001b[0m\u001b[0;34m(\u001b[0m\u001b[0;34m)\u001b[0m\u001b[0;34m,\u001b[0m \u001b[0;34m\"html.parser\"\u001b[0m\u001b[0;34m)\u001b[0m\u001b[0;34m\u001b[0m\u001b[0;34m\u001b[0m\u001b[0m\n\u001b[1;32m     25\u001b[0m \u001b[0;34m\u001b[0m\u001b[0m\n\u001b[0;32m---> 26\u001b[0;31m         \u001b[0mParser\u001b[0m\u001b[0;34m(\u001b[0m\u001b[0mart\u001b[0m\u001b[0;34m,\u001b[0m\u001b[0mtsv\u001b[0m\u001b[0;34m,\u001b[0m\u001b[0msoup\u001b[0m\u001b[0;34m)\u001b[0m\u001b[0;34m\u001b[0m\u001b[0;34m\u001b[0m\u001b[0m\n\u001b[0m\u001b[1;32m     27\u001b[0m \u001b[0;34m\u001b[0m\u001b[0m\n\u001b[1;32m     28\u001b[0m         \u001b[0mart\u001b[0m\u001b[0;34m.\u001b[0m\u001b[0mclose\u001b[0m\u001b[0;34m(\u001b[0m\u001b[0;34m)\u001b[0m\u001b[0;34m\u001b[0m\u001b[0;34m\u001b[0m\u001b[0m\n",
      "\u001b[0;32m<ipython-input-1-648e42fc1d22>\u001b[0m in \u001b[0;36mParser\u001b[0;34m(art, tsv, soup)\u001b[0m\n\u001b[1;32m     36\u001b[0m         \u001b[0mend\u001b[0m\u001b[0;34m=\u001b[0m\u001b[0mdatetime\u001b[0m\u001b[0;34m.\u001b[0m\u001b[0mstrptime\u001b[0m\u001b[0;34m(\u001b[0m\u001b[0;34m\" \"\u001b[0m\u001b[0;34m.\u001b[0m\u001b[0mjoin\u001b[0m\u001b[0;34m(\u001b[0m\u001b[0mfinder4\u001b[0m\u001b[0;34m[\u001b[0m\u001b[0;36m4\u001b[0m\u001b[0;34m:\u001b[0m\u001b[0;34m]\u001b[0m\u001b[0;34m)\u001b[0m\u001b[0;34m,\u001b[0m \u001b[0;34m\"%b %d, %Y\"\u001b[0m\u001b[0;34m)\u001b[0m\u001b[0;34m\u001b[0m\u001b[0;34m\u001b[0m\u001b[0m\n\u001b[1;32m     37\u001b[0m     \u001b[0;32melse\u001b[0m\u001b[0;34m:\u001b[0m\u001b[0;34m\u001b[0m\u001b[0;34m\u001b[0m\u001b[0m\n\u001b[0;32m---> 38\u001b[0;31m         \u001b[0mstart\u001b[0m\u001b[0;34m=\u001b[0m\u001b[0mdatetime\u001b[0m\u001b[0;34m.\u001b[0m\u001b[0mstrptime\u001b[0m\u001b[0;34m(\u001b[0m\u001b[0;34m\" \"\u001b[0m\u001b[0;34m.\u001b[0m\u001b[0mjoin\u001b[0m\u001b[0;34m(\u001b[0m\u001b[0mfinder4\u001b[0m\u001b[0;34m[\u001b[0m\u001b[0;34m:\u001b[0m\u001b[0;36m3\u001b[0m\u001b[0;34m]\u001b[0m\u001b[0;34m)\u001b[0m\u001b[0;34m,\u001b[0m\u001b[0;34m\"%b %d, %Y\"\u001b[0m\u001b[0;34m)\u001b[0m\u001b[0;34m\u001b[0m\u001b[0;34m\u001b[0m\u001b[0m\n\u001b[0m\u001b[1;32m     39\u001b[0m \u001b[0;34m\u001b[0m\u001b[0m\n\u001b[1;32m     40\u001b[0m     \u001b[0mreleaseDate\u001b[0m\u001b[0;34m=\u001b[0m\u001b[0mstart\u001b[0m\u001b[0;34m\u001b[0m\u001b[0;34m\u001b[0m\u001b[0m\n",
      "\u001b[0;32m~/anaconda3/lib/python3.8/_strptime.py\u001b[0m in \u001b[0;36m_strptime_datetime\u001b[0;34m(cls, data_string, format)\u001b[0m\n\u001b[1;32m    566\u001b[0m     \"\"\"Return a class cls instance based on the input string and the\n\u001b[1;32m    567\u001b[0m     format string.\"\"\"\n\u001b[0;32m--> 568\u001b[0;31m     \u001b[0mtt\u001b[0m\u001b[0;34m,\u001b[0m \u001b[0mfraction\u001b[0m\u001b[0;34m,\u001b[0m \u001b[0mgmtoff_fraction\u001b[0m \u001b[0;34m=\u001b[0m \u001b[0m_strptime\u001b[0m\u001b[0;34m(\u001b[0m\u001b[0mdata_string\u001b[0m\u001b[0;34m,\u001b[0m \u001b[0mformat\u001b[0m\u001b[0;34m)\u001b[0m\u001b[0;34m\u001b[0m\u001b[0;34m\u001b[0m\u001b[0m\n\u001b[0m\u001b[1;32m    569\u001b[0m     \u001b[0mtzname\u001b[0m\u001b[0;34m,\u001b[0m \u001b[0mgmtoff\u001b[0m \u001b[0;34m=\u001b[0m \u001b[0mtt\u001b[0m\u001b[0;34m[\u001b[0m\u001b[0;34m-\u001b[0m\u001b[0;36m2\u001b[0m\u001b[0;34m:\u001b[0m\u001b[0;34m]\u001b[0m\u001b[0;34m\u001b[0m\u001b[0;34m\u001b[0m\u001b[0m\n\u001b[1;32m    570\u001b[0m     \u001b[0margs\u001b[0m \u001b[0;34m=\u001b[0m \u001b[0mtt\u001b[0m\u001b[0;34m[\u001b[0m\u001b[0;34m:\u001b[0m\u001b[0;36m6\u001b[0m\u001b[0;34m]\u001b[0m \u001b[0;34m+\u001b[0m \u001b[0;34m(\u001b[0m\u001b[0mfraction\u001b[0m\u001b[0;34m,\u001b[0m\u001b[0;34m)\u001b[0m\u001b[0;34m\u001b[0m\u001b[0;34m\u001b[0m\u001b[0m\n",
      "\u001b[0;32m~/anaconda3/lib/python3.8/_strptime.py\u001b[0m in \u001b[0;36m_strptime\u001b[0;34m(data_string, format)\u001b[0m\n\u001b[1;32m    347\u001b[0m     \u001b[0mfound\u001b[0m \u001b[0;34m=\u001b[0m \u001b[0mformat_regex\u001b[0m\u001b[0;34m.\u001b[0m\u001b[0mmatch\u001b[0m\u001b[0;34m(\u001b[0m\u001b[0mdata_string\u001b[0m\u001b[0;34m)\u001b[0m\u001b[0;34m\u001b[0m\u001b[0;34m\u001b[0m\u001b[0m\n\u001b[1;32m    348\u001b[0m     \u001b[0;32mif\u001b[0m \u001b[0;32mnot\u001b[0m \u001b[0mfound\u001b[0m\u001b[0;34m:\u001b[0m\u001b[0;34m\u001b[0m\u001b[0;34m\u001b[0m\u001b[0m\n\u001b[0;32m--> 349\u001b[0;31m         raise ValueError(\"time data %r does not match format %r\" %\n\u001b[0m\u001b[1;32m    350\u001b[0m                          (data_string, format))\n\u001b[1;32m    351\u001b[0m     \u001b[0;32mif\u001b[0m \u001b[0mlen\u001b[0m\u001b[0;34m(\u001b[0m\u001b[0mdata_string\u001b[0m\u001b[0;34m)\u001b[0m \u001b[0;34m!=\u001b[0m \u001b[0mfound\u001b[0m\u001b[0;34m.\u001b[0m\u001b[0mend\u001b[0m\u001b[0;34m(\u001b[0m\u001b[0;34m)\u001b[0m\u001b[0;34m:\u001b[0m\u001b[0;34m\u001b[0m\u001b[0;34m\u001b[0m\u001b[0m\n",
      "\u001b[0;31mValueError\u001b[0m: time data 'Spring 2019' does not match format '%b %d, %Y'"
     ]
    }
   ],
   "source": [
    "#PARSING\n",
    "import os\n",
    "import requests\n",
    "from bs4 import BeautifulSoup\n",
    "from tqdm import tqdm\n",
    "\n",
    "\n",
    "for page in tqdm(range(0,10)):\n",
    "    #Manage the directories\n",
    "    \n",
    "    \n",
    "    #These if conditions are needed to have the right indexing of the pages downloaded\n",
    "    if page%2==0: start=page*50\n",
    "    if page%2!=0: start=page*50+50\n",
    "    \n",
    "    for i in range(start,start+50):\n",
    "        #Open the articles of the page \n",
    "        os.chdir(\"Page\"+str(page+1))\n",
    "        art=open(\"article\"+str(i+1)+'.html',\"r\")\n",
    "        os.chdir(\"..\")\n",
    "        os.chdir(\"TSV\")\n",
    "        tsv=open(\"anime_\"+str(i+1)+\".tsv\",\"w\")\n",
    "        \n",
    "        soup=BeautifulSoup(art.read(), \"html.parser\") \n",
    "        \n",
    "        Parser(art,tsv,soup)\n",
    "        \n",
    "        art.close()\n",
    "        tsv.close()\n",
    "        os.chdir(\"..\")\n",
    "    "
   ]
  },
  {
   "cell_type": "code",
   "execution_count": null,
   "id": "a072e88e-f793-4273-8dd1-c3d881637f44",
   "metadata": {},
   "outputs": [],
   "source": []
  }
 ],
 "metadata": {
  "kernelspec": {
   "display_name": "Python 3",
   "language": "python",
   "name": "python3"
  },
  "language_info": {
   "codemirror_mode": {
    "name": "ipython",
    "version": 3
   },
   "file_extension": ".py",
   "mimetype": "text/x-python",
   "name": "python",
   "nbconvert_exporter": "python",
   "pygments_lexer": "ipython3",
   "version": "3.8.8"
  }
 },
 "nbformat": 4,
 "nbformat_minor": 5
}
