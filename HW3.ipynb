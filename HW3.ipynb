{
 "cells": [
  {
   "cell_type": "markdown",
   "id": "13657420-d90a-49c3-843c-b68eccebeda8",
   "metadata": {},
   "source": [
    "# Part 1"
   ]
  },
  {
   "cell_type": "markdown",
   "id": "00d0cc92-b77e-4274-9bd0-3e813761c2d4",
   "metadata": {},
   "source": [
    "## 1.1"
   ]
  },
  {
   "cell_type": "code",
   "execution_count": 2,
   "id": "eca3207a-268d-4d91-893e-90e63903447d",
   "metadata": {},
   "outputs": [
    {
     "name": "stderr",
     "output_type": "stream",
     "text": [
      "100%|██████████| 400/400 [05:13<00:00,  1.27it/s]\n"
     ]
    }
   ],
   "source": [
    "#Create text file with links (EXECUTE THE NEXT 2 CELLS ONLY ONCE)\n",
    "import requests\n",
    "from bs4 import BeautifulSoup\n",
    "from tqdm import tqdm\n",
    "\n",
    "anime = []\n",
    "\n",
    "for page in tqdm(range(0, 400)):\n",
    "    url = 'https://myanimelist.net/topanime.php?limit=' + str(page * 50)\n",
    "    response = requests.get(url)\n",
    "    \n",
    "    soup = BeautifulSoup(response.text, 'html.parser')\n",
    "    for tag in soup.find_all('tr'):\n",
    "        links = tag.find_all('a')\n",
    "        for link in links:        \n",
    "            if type(link.get('id')) == str and len(link.contents[0]) > 1:\n",
    "                anime.append((link.contents[0], link.get('href')) )\n"
   ]
  },
  {
   "cell_type": "code",
   "execution_count": 3,
   "id": "1eac08f9-f113-40de-b5ae-49bb13d32216",
   "metadata": {},
   "outputs": [],
   "source": [
    "f = open(\"links.txt\", \"w\")\n",
    "for el in anime:\n",
    "    f.write(str(el[1])+'\\n')\n",
    "f.close()\n",
    "#We get 19083 rows, which implies we have less than 20000 animes"
   ]
  },
  {
   "cell_type": "markdown",
   "id": "937ca4fc-d6a3-4868-af1c-b4c13f6da5e8",
   "metadata": {},
   "source": [
    "## 1.2"
   ]
  },
  {
   "cell_type": "code",
   "execution_count": 1,
   "id": "33b42b20-a584-4c50-b9bc-89cec52348cc",
   "metadata": {
    "tags": []
   },
   "outputs": [
    {
     "name": "stderr",
     "output_type": "stream",
     "text": [
      " 17%|█▋        | 3/18 [06:08<28:42, 114.83s/it]"
     ]
    },
    {
     "name": "stdout",
     "output_type": "stream",
     "text": [
      "Last well executed page is 366\n",
      "Last well executed page is 366\n",
      "Last well executed page is 366\n"
     ]
    },
    {
     "name": "stderr",
     "output_type": "stream",
     "text": [
      " 94%|█████████▍| 17/18 [25:00<01:28, 88.29s/it]\n"
     ]
    },
    {
     "ename": "IndexError",
     "evalue": "list index out of range",
     "output_type": "error",
     "traceback": [
      "\u001b[0;31m---------------------------------------------------------------------------\u001b[0m",
      "\u001b[0;31mIndexError\u001b[0m                                Traceback (most recent call last)",
      "\u001b[0;32m<ipython-input-1-38da25c8909d>\u001b[0m in \u001b[0;36m<module>\u001b[0;34m\u001b[0m\n\u001b[1;32m     20\u001b[0m \u001b[0;34m\u001b[0m\u001b[0m\n\u001b[1;32m     21\u001b[0m     \u001b[0;32mfor\u001b[0m \u001b[0mi\u001b[0m \u001b[0;32min\u001b[0m \u001b[0mrange\u001b[0m\u001b[0;34m(\u001b[0m\u001b[0mstart\u001b[0m\u001b[0;34m,\u001b[0m\u001b[0mstart\u001b[0m\u001b[0;34m+\u001b[0m\u001b[0;36m50\u001b[0m\u001b[0;34m)\u001b[0m\u001b[0;34m:\u001b[0m\u001b[0;34m\u001b[0m\u001b[0;34m\u001b[0m\u001b[0m\n\u001b[0;32m---> 22\u001b[0;31m         \u001b[0murl\u001b[0m\u001b[0;34m=\u001b[0m\u001b[0mlines\u001b[0m\u001b[0;34m[\u001b[0m\u001b[0mi\u001b[0m\u001b[0;34m]\u001b[0m\u001b[0;34m\u001b[0m\u001b[0;34m\u001b[0m\u001b[0m\n\u001b[0m\u001b[1;32m     23\u001b[0m         \u001b[0mcheck\u001b[0m \u001b[0;34m=\u001b[0m \u001b[0mrequests\u001b[0m\u001b[0;34m.\u001b[0m\u001b[0mget\u001b[0m\u001b[0;34m(\u001b[0m\u001b[0murl\u001b[0m\u001b[0;34m)\u001b[0m\u001b[0;34m\u001b[0m\u001b[0;34m\u001b[0m\u001b[0m\n\u001b[1;32m     24\u001b[0m \u001b[0;34m\u001b[0m\u001b[0m\n",
      "\u001b[0;31mIndexError\u001b[0m: list index out of range"
     ]
    }
   ],
   "source": [
    "#Download the pages\n",
    "import os\n",
    "import requests\n",
    "from bs4 import BeautifulSoup\n",
    "from tqdm import tqdm\n",
    "from random import randint\n",
    "#multiprocessing library\n",
    "\n",
    "#first open file from which we get links\n",
    "f = open(\"links.txt\",\"r\")\n",
    "lines = f.readlines()\n",
    "\n",
    "for page in tqdm(range(364,382)):\n",
    "    #Manage the directories\n",
    "    os.system(\"mkdir Page\"+str(page+1)) #the (page+1) is to make so we don't have the first element 0 but 1\n",
    "    os.chdir(\"Page\"+str(page+1))\n",
    "    \n",
    "    #These if conditions are needed to have the right indexing of the pages downloaded\n",
    "    start=50*page\n",
    "    \n",
    "    for i in range(start,start+50):\n",
    "        url=lines[i]\n",
    "        check = requests.get(url)\n",
    "        \n",
    "        #Check if the site is blocking the download, start again when we are allowed to\n",
    "        if check.status_code != 200:\n",
    "            print(\"Last well executed page is {}\".format(page-1))\n",
    "            while(check.status_code != 200): #Stop while we can't download\n",
    "                check = requests.get(url)\n",
    "                #next line was just a try of changing the ip when the site would stop the downloads\n",
    "                #in short didn't manage to implement it\n",
    "                #os.system((\"sudo ifconfig lo 127.0.0.{}  netmask 255.0.0.0\").format(randint(0,50))) \n",
    "       \n",
    "        #Save the content of the page \n",
    "        art=open(\"article\"+str(i+1)+'.html',\"wb\")\n",
    "        art.write(check.content)\n",
    "        art.close()\n",
    "    \n",
    "    os.chdir(\"..\")"
   ]
  },
  {
   "cell_type": "markdown",
   "id": "ce311ac6-f9d3-4f29-9143-c73e5812e236",
   "metadata": {
    "tags": []
   },
   "source": [
    "## 1.3"
   ]
  },
  {
   "cell_type": "code",
   "execution_count": 65,
   "id": "84f0fe8d-3c30-4fef-b565-edcf8711c517",
   "metadata": {
    "tags": []
   },
   "outputs": [],
   "source": [
    "import os\n",
    "import requests\n",
    "from bs4 import BeautifulSoup\n",
    "from tqdm import tqdm\n",
    "def Parse2(tsv, soup):\n",
    "    animeTitle,animeType,(animeNumEpisode),(releaseDate),(endDate),(animeNumMembers),(animeScore),(animeUsers),(animeRank),(animePopularity),animeDescription,(animeRelated),(animeCharacters),(animeVoices),(animeStaff)=\"\",\"\",\"\",\"\",\"\",\"\",\"\",\"\",\"\",\"\",\"\",\"\",\"\",\"\",\"\"\n",
    "\n",
    "    left_col=soup.find('div', {'style':\"width: 225px\"})\n",
    "    l_div=left_col.find_all(\"div\",{\"class\":\"spaceit_pad\"}) #we will iterate over this, more later\n",
    "    \n",
    "    start=\"\"\n",
    "    end=\"\"\n",
    "    \n",
    "    #This is a for over the left column of the page, in which are listed most of the info we care about\n",
    "    #going through the html like this speeds up the process of reading the single element\n",
    "    for i in range(len(l_div)):\n",
    "        \n",
    "        if \"Type\" in l_div[i].getText():\n",
    "            animeType = l_div[i].getText().replace(\"Type:\",\"\").replace(\"\\n\",\"\").strip()\n",
    "            #print(animeType)\n",
    "            \n",
    "        if \"Episodes\" in l_div[i].getText():\n",
    "            animeNumEpisode = (l_div[i].getText().replace(\"Episodes:\",\"\").replace(\"\\n\",\"\").strip())\n",
    "            if animeNumEpisode==\"Unknown\":\n",
    "                animeNumEpisode=\"\"\n",
    "            #print(animeNumEpisode)\n",
    "        \n",
    "        #this piece of code is probably not that readable but I had to adjust it in different times in order\n",
    "        #to get as much info as possible since there were many different cases\n",
    "        if \"Aired\" in l_div[i].getText():\n",
    "            if len(l_div[i].getText().replace(\"Aired:\",\"\").replace(\"to\",\"\").strip().split())==6:\n",
    "                start=\" \".join(l_div[i].getText().replace(\"Aired:\",\"\").replace(\",\",\"\").replace(\"to\",\"\").strip().split()[0:3])\n",
    "                end=\" \".join(l_div[i].getText().replace(\"Aired:\",\"\").replace(\",\",\"\").replace(\"to\",\"\").strip().split()[3:6])\n",
    "                start=datetime.strptime(start,\"%b %d %Y\")\n",
    "                end=datetime.strptime(end,\"%b %d %Y\")\n",
    "            if len(l_div[i].getText().replace(\"Aired:\",\"\").replace(\",\",\"\").replace(\"to\",\"\").strip().split())==3 and (\"?\" not in l_div[i].getText().replace(\"Aired:\",\"\").replace(\"to\",\"\").strip().split()):\n",
    "                if len(l_div[i].getText().replace(\"Aired:\",\"\").replace(\",\",\"\").replace(\"to\",\"\").strip().split()[1])!=len(l_div[i].getText().replace(\"Aired:\",\"\").replace(\",\",\"\").replace(\"to\",\"\").strip().split()[2]):\n",
    "                    \n",
    "                    start=\" \".join(l_div[i].getText().replace(\"Aired:\",\"\").replace(\",\",\"\").replace(\"to\",\"\").strip().split()[0:3])\n",
    "                    start=datetime.strptime(start,\"%b %d %Y\")\n",
    "                else:\n",
    "                    start=\"\"\n",
    "            else:\n",
    "                start=end=\"\"\n",
    "            \n",
    "            releaseDate=start\n",
    "            endDate=end\n",
    "            #print(releaseDate)\n",
    "            #print(endDate)\n",
    "            \n",
    "        #the i!=0 and \"ookiku\" exceptions are ad-hoc exceptions made for some animes\n",
    "        #which contained info parsed in a different way from the rest of the group\n",
    "        if (\"Score\" in l_div[i].getText()) and (i!=0) and (\"Ookiku\" not in l_div[i].getText()):\n",
    "            if l_div[i].getText().replace(\"Score:\",\"\").replace(\",\",\"\").split()[3]!=\"-\":\n",
    "                animeUsers = int(l_div[i].getText().replace(\"Score:\",\"\").replace(\",\",\"\").split()[3])\n",
    "                animeScore = float(l_div[i].getText().replace(\"Score:\",\"\").replace(\",\",\"\").split()[0])\n",
    "            #print(animeUsers)\n",
    "            #print(animeScore)\n",
    "        #if \"Ranked\" in l_div[i].getText():#19 >>>> conviene prenderlo da sopra il rank\n",
    "            \n",
    "        if \"Popularity\" in l_div[i].getText():  \n",
    "            animePopularity = int(l_div[i].getText().replace(\"Popularity:\",\"\").strip().replace(\"#\",\"\"))\n",
    "            #print(animePopularity)\n",
    "    \n",
    "        if \"Members\" in l_div[i].getText():\n",
    "            animeNumMembers = int(l_div[i].getText().replace(\"Members:\",\"\").strip().replace(\",\",\"\"))\n",
    "            #print(animeNumMembers)\n",
    "   \n",
    "    \n",
    "    description=soup.find(\"p\",{\"itemprop\":\"description\"})\n",
    "    animeDescription=description.getText().replace(\"\\n\",\"\")\n",
    "    #print(animeDescription)\n",
    "    \n",
    "    #THESE ARE THE SUGGESTED ONES\n",
    "    #rel=[]\n",
    "    #related=soup.find_all(\"li\",{\"class\":\"btn-anime\",\"style\":\"width:90px\"})\n",
    "    #for i in range(len(related)):\n",
    "    #    rel.append(related[i][\"title\"])\n",
    "    #animeRelated = rel\n",
    "    #print(animeRelated)\n",
    "    \n",
    "    rel=[]\n",
    "    related=soup.find(\"table\",{\"class\":\"anime_detail_related_anime\"})#.find_all(\"td\",{\"class\":\"borderClass\"})\n",
    "    if (related)!=None:\n",
    "        #print(type(related),related)\n",
    "        related=related.find_all(\"td\",{\"class\":\"borderClass\"})\n",
    "        for i in range(len(related)):\n",
    "            if i%2!=0:\n",
    "                rel.append(related[i].getText())\n",
    "    animeRelated=rel\n",
    "    \n",
    "    \n",
    "    chars=[]\n",
    "    voices=[]\n",
    "    staff=[]\n",
    "    l=[]\n",
    "    \n",
    "    #As before, loop over the 2 tables in the html\n",
    "    seed=soup.find_all(\"div\",{\"class\":\"detail-characters-list clearfix\"})\n",
    "    for i in range(len(seed)):\n",
    "        if i==0:\n",
    "            who=soup.find(\"div\",{\"class\":\"detail-characters-list clearfix\"}).find_all(\"img\")\n",
    "            for i in range(len(who)):\n",
    "                if i%2==0:\n",
    "                    chars.append(\",\".join(who[i][\"alt\"].replace(\" \",\"\").split(\",\")))\n",
    "                else:\n",
    "                    voices.append(\",\".join(who[i][\"alt\"].replace(\" \",\"\").split(\",\")))\n",
    "    \n",
    "        if i==1:\n",
    "            if (len(soup.find_all(\"div\",{\"class\":\"detail-characters-list clearfix\"}))>1):\n",
    "                for i in range(len(soup.find_all(\"div\",{\"class\":\"detail-characters-list clearfix\"})[1].find_all(\"img\"))):\n",
    "                    staff.append(soup.find_all(\"div\",{\"class\":\"detail-characters-list clearfix\"})[1].find_all(\"img\")[i][\"alt\"])\n",
    "                    staff.append((soup.find_all(\"div\",{\"class\":\"detail-characters-list clearfix\"})[1].find_all(\"div\", {\"class\":\"spaceit_pad\"}))[i].getText().strip())\n",
    "                    \n",
    "                for i in range(0,2*len(soup.find_all(\"div\",{\"class\":\"detail-characters-list clearfix\"})[1].find_all(\"img\")),2):\n",
    "                    l.append(staff[i:i+2])\n",
    "            \n",
    "            \n",
    "    animeCharacters = chars\n",
    "    animeVoices = voices\n",
    "    animeStaff = l   \n",
    "\n",
    "    #print(animeStaff)\n",
    "    \n",
    "    \n",
    "    animeTitle = soup.find(\"h1\",{\"class\":\"title-name h1_bold_none\"}).getText()\n",
    "    animeRank=soup.find(\"span\",{\"class\":\"numbers ranked\"}).getText().replace(\"Ranked #\",\"\")\n",
    "    #Here we exclude the missing information case\n",
    "    if \"N/A\" not in animeRank:\n",
    "        animeRank = int(animeRank)\n",
    "    else:\n",
    "        animeRank=\"\"\n",
    "    \n",
    "    #write title and info in the TSV\n",
    "    tsv.write(\"animeTitle\"+\"\\t\"+\"animeType\"+\"\\t\"+\"animeNumEpisode\"+\"\\t\"+\"releaseDate\"+\"\\t\"+\"endDate\"+\"\\t\"+\"animeNumMembers\"+\"\\t\"+\"animeScore\"+\"\\t\"+\"animeUsers\"+\"\\t\"+\"animeRank\"+\"\\t\"+\"animePopularity\"+\"\\t\"+\"animeDescription\"+\"\\t\"+\"animeRelated\"+\"\\t\"+\"animeCharacters\"+\"\\t\"+\"animeVoices\"+\"\\t\"+\"animeStaff\"+\"\\n\")\n",
    "    tsv.write(animeTitle+\"\\t\"+animeType+\"\\t\"+str(animeNumEpisode)+\"\\t\"+str(releaseDate)+\"\\t\"+str(endDate)+\"\\t\"+str(animeNumMembers)+\"\\t\"+str(animeScore)+\"\\t\"+str(animeUsers)+\"\\t\"+str(animeRank)+\"\\t\"+str(animePopularity)+\"\\t\"+animeDescription+\"\\t\"+str(animeRelated)+\"\\t\"+str(animeCharacters)+\"\\t\"+str(animeVoices)+\"\\t\"+str(animeStaff))\n"
   ]
  },
  {
   "cell_type": "code",
   "execution_count": 70,
   "id": "29c3bddf-4812-46ca-9953-557a65a7827e",
   "metadata": {
    "tags": []
   },
   "outputs": [
    {
     "name": "stderr",
     "output_type": "stream",
     "text": [
      "100%|█████████▉| 381/382 [38:20<00:06,  6.04s/it] \n"
     ]
    },
    {
     "ename": "FileNotFoundError",
     "evalue": "[Errno 2] No such file or directory: 'article19084.html'",
     "output_type": "error",
     "traceback": [
      "\u001b[0;31m---------------------------------------------------------------------------\u001b[0m",
      "\u001b[0;31mFileNotFoundError\u001b[0m                         Traceback (most recent call last)",
      "\u001b[0;32m<ipython-input-70-1b97c06980e2>\u001b[0m in \u001b[0;36m<module>\u001b[0;34m\u001b[0m\n\u001b[1;32m     13\u001b[0m         \u001b[0;31m#Open the articles of the page\u001b[0m\u001b[0;34m\u001b[0m\u001b[0;34m\u001b[0m\u001b[0;34m\u001b[0m\u001b[0m\n\u001b[1;32m     14\u001b[0m         \u001b[0mos\u001b[0m\u001b[0;34m.\u001b[0m\u001b[0mchdir\u001b[0m\u001b[0;34m(\u001b[0m\u001b[0;34m\"Page\"\u001b[0m\u001b[0;34m+\u001b[0m\u001b[0mstr\u001b[0m\u001b[0;34m(\u001b[0m\u001b[0mpage\u001b[0m\u001b[0;34m+\u001b[0m\u001b[0;36m1\u001b[0m\u001b[0;34m)\u001b[0m\u001b[0;34m)\u001b[0m\u001b[0;34m\u001b[0m\u001b[0;34m\u001b[0m\u001b[0m\n\u001b[0;32m---> 15\u001b[0;31m         \u001b[0mart\u001b[0m\u001b[0;34m=\u001b[0m\u001b[0mopen\u001b[0m\u001b[0;34m(\u001b[0m\u001b[0;34m\"article\"\u001b[0m\u001b[0;34m+\u001b[0m\u001b[0mstr\u001b[0m\u001b[0;34m(\u001b[0m\u001b[0mi\u001b[0m\u001b[0;34m+\u001b[0m\u001b[0;36m1\u001b[0m\u001b[0;34m)\u001b[0m\u001b[0;34m+\u001b[0m\u001b[0;34m'.html'\u001b[0m\u001b[0;34m,\u001b[0m\u001b[0;34m\"r\"\u001b[0m\u001b[0;34m)\u001b[0m\u001b[0;34m\u001b[0m\u001b[0;34m\u001b[0m\u001b[0m\n\u001b[0m\u001b[1;32m     16\u001b[0m         \u001b[0mos\u001b[0m\u001b[0;34m.\u001b[0m\u001b[0mchdir\u001b[0m\u001b[0;34m(\u001b[0m\u001b[0;34m\"..\"\u001b[0m\u001b[0;34m)\u001b[0m\u001b[0;34m\u001b[0m\u001b[0;34m\u001b[0m\u001b[0m\n\u001b[1;32m     17\u001b[0m         \u001b[0mos\u001b[0m\u001b[0;34m.\u001b[0m\u001b[0mchdir\u001b[0m\u001b[0;34m(\u001b[0m\u001b[0;34m\"TSV\"\u001b[0m\u001b[0;34m)\u001b[0m\u001b[0;34m\u001b[0m\u001b[0;34m\u001b[0m\u001b[0m\n",
      "\u001b[0;31mFileNotFoundError\u001b[0m: [Errno 2] No such file or directory: 'article19084.html'"
     ]
    }
   ],
   "source": [
    "#PARSING\n",
    "import os\n",
    "import requests\n",
    "from bs4 import BeautifulSoup\n",
    "from tqdm import tqdm\n",
    "from datetime import datetime\n",
    "\n",
    "for page in tqdm(range(0,382)):\n",
    "    \n",
    "    start=50*page\n",
    "    \n",
    "    for i in range(start,start+50):\n",
    "        #Open the articles of the page and save all the TSVs in a single directory\n",
    "        os.chdir(\"Page\"+str(page+1))\n",
    "        art=open(\"article\"+str(i+1)+'.html',\"r\")\n",
    "        os.chdir(\"..\")\n",
    "        os.chdir(\"TSV\")\n",
    "        tsv=open(\"anime_\"+str(i+1)+\".tsv\",\"w\")\n",
    "        \n",
    "        soup=BeautifulSoup(art.read(), \"html.parser\") \n",
    "        \n",
    "        #Just use the parsing function we developed earlier\n",
    "        Parse2(tsv,soup)\n",
    "        \n",
    "        art.close()\n",
    "        tsv.close()\n",
    "        os.chdir(\"..\")\n"
   ]
  },
  {
   "cell_type": "markdown",
   "id": "86ff8989-abcf-4b0e-8297-0d06348fb60b",
   "metadata": {},
   "source": [
    "# Part 5"
   ]
  },
  {
   "cell_type": "markdown",
   "id": "4178e6ca-124f-49ed-bb4f-1756282e4a4f",
   "metadata": {},
   "source": [
    "## 5.1"
   ]
  },
  {
   "cell_type": "code",
   "execution_count": null,
   "id": "c5ee797d-f8a8-49d6-b320-50929dafbd67",
   "metadata": {},
   "outputs": [],
   "source": [
    "#Pseudocode:\n",
    "\"\"\"\n",
    "A: array of length l of which we want to compute the maximum sum of non adjacent elements\n",
    "def compute(A): \n",
    "    l=len(A)       \n",
    "    gain=[]      declare 2 arrays: one to store the values of the gain at each iteration and the other \n",
    "    path=[]                        to use later to save only the elements of the gain we care about (the path chosen\n",
    "                                   to get the sum)\n",
    "    inc=exc=0    here we initialize the variables that will keep inside them the value of the 2 sums at each iteration:\n",
    "                 one including and one excluding the single element \n",
    "                 \n",
    "    for i in range(l):          then we just compute the value of the 2 sums at each iteration and save the gain \n",
    "        temp=inc                for each of them\n",
    "        inc=max(inc,A[i]+exc)\n",
    "        exc=temp            \n",
    "        gain.append(inc-exc)\n",
    "    \n",
    "    for j in range(0,len(gain)-1,2):  here we compare the elements of the gain list and take only those of interest:\n",
    "        if gain[j+1]>0:               if the gain is equal to 0 for that iteration the value is excluded \"a priori\"\n",
    "            path.append(A[j+1])       then we impose the condition to only get alternate values for which the gain is\n",
    "        else:                         greater than zero\n",
    "            path.append(A[j])\n",
    "    \n",
    "    return sum(path),path\n",
    "\"\"\""
   ]
  },
  {
   "cell_type": "markdown",
   "id": "e20cefbb-da56-47e3-adff-6742966783be",
   "metadata": {},
   "source": [
    "## 5.2"
   ]
  },
  {
   "cell_type": "code",
   "execution_count": 676,
   "id": "5a9905eb-ecd5-42ef-91b7-70c5eb38f725",
   "metadata": {},
   "outputs": [],
   "source": [
    "#Implementation\n",
    "#method developed starting from this: https://www.youtube.com/watch?v=UtGtF6nc35g\n",
    "def compute(A):\n",
    "    l=len(A)\n",
    "    gain=[]\n",
    "    path=[]\n",
    "    inc=exc=0 #include, exclude --> compute value of sum including or excluding the i-th element\n",
    "\n",
    "    for i in range(l):\n",
    "        temp=inc\n",
    "        inc=max(inc,A[i]+exc)\n",
    "        exc=temp            \n",
    "        gain.append(inc-exc)#save the gain\n",
    "\n",
    "    \n",
    "    for j in range(0,len(gain)-1,2):\n",
    "        if gain[j+1]>0:\n",
    "            path.append(A[j+1])\n",
    "        else:\n",
    "            path.append(A[j])\n",
    "    \n",
    "    return sum(path),path"
   ]
  },
  {
   "cell_type": "code",
   "execution_count": 677,
   "id": "61320f62-b409-4bb4-90a8-3e7e32ddecf6",
   "metadata": {},
   "outputs": [
    {
     "data": {
      "text/plain": [
       "(110, [40, 50, 20])"
      ]
     },
     "execution_count": 677,
     "metadata": {},
     "output_type": "execute_result"
    }
   ],
   "source": [
    "A=[30, 40, 25, 50, 30, 20]\n",
    "compute(A)"
   ]
  },
  {
   "cell_type": "markdown",
   "id": "becc5474-e481-4096-a45b-090394aea9b6",
   "metadata": {},
   "source": [
    "Given an array A of length $n$ the complexity of the algorithm is $O(n)$ [excluding constants].\\\n",
    "It took me over 20 hours to come up with this solution (I had problems with the implementation), in which I tried different approaches to the problem:\n",
    "1. I first tried looking at the list as a tree, but computing every possible case to then take the one with the highest output would lead me to a solution of order $O(n^2)$.\n",
    "1. After this attempt I started searching on the internet and came across this video (https://www.youtube.com/watch?v=UtGtF6nc35g) in which the inclusion/exclusion method is explained. Making few changes to that algorithm I managed to get a result that is able to find the highest value solution along with the chosen elements of the starting array that seems to work in all the cases."
   ]
  }
 ],
 "metadata": {
  "kernelspec": {
   "display_name": "Python 3",
   "language": "python",
   "name": "python3"
  },
  "language_info": {
   "codemirror_mode": {
    "name": "ipython",
    "version": 3
   },
   "file_extension": ".py",
   "mimetype": "text/x-python",
   "name": "python",
   "nbconvert_exporter": "python",
   "pygments_lexer": "ipython3",
   "version": "3.8.8"
  }
 },
 "nbformat": 4,
 "nbformat_minor": 5
}
