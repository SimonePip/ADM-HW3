{
 "cells": [
  {
   "cell_type": "code",
   "execution_count": 2,
   "id": "eca3207a-268d-4d91-893e-90e63903447d",
   "metadata": {},
   "outputs": [
    {
     "name": "stderr",
     "output_type": "stream",
     "text": [
      "100%|██████████| 400/400 [05:13<00:00,  1.27it/s]\n"
     ]
    }
   ],
   "source": [
    "#Create text file with links (EXECUTE THE NEXT 2 CELLS ONLY ONCE)\n",
    "import requests\n",
    "from bs4 import BeautifulSoup\n",
    "from tqdm import tqdm\n",
    "\n",
    "anime = []\n",
    "\n",
    "for page in tqdm(range(0, 400)):\n",
    "    url = 'https://myanimelist.net/topanime.php?limit=' + str(page * 50)\n",
    "    response = requests.get(url)\n",
    "    \n",
    "    soup = BeautifulSoup(response.text, 'html.parser')\n",
    "    for tag in soup.find_all('tr'):\n",
    "        links = tag.find_all('a')\n",
    "        for link in links:        \n",
    "            if type(link.get('id')) == str and len(link.contents[0]) > 1:\n",
    "                anime.append((link.contents[0], link.get('href')) )\n"
   ]
  },
  {
   "cell_type": "code",
   "execution_count": 3,
   "id": "1eac08f9-f113-40de-b5ae-49bb13d32216",
   "metadata": {},
   "outputs": [],
   "source": [
    "f = open(\"links.txt\", \"w\")\n",
    "for el in anime:\n",
    "    f.write(str(el[1])+'\\n')\n",
    "f.close()\n",
    "#We get 19083 rows, which implies we have less than 20000 animes"
   ]
  },
  {
   "cell_type": "code",
   "execution_count": null,
   "id": "33b42b20-a584-4c50-b9bc-89cec52348cc",
   "metadata": {
    "tags": []
   },
   "outputs": [
    {
     "name": "stderr",
     "output_type": "stream",
     "text": [
      "  0%|          | 0/5 [00:00<?, ?it/s]"
     ]
    },
    {
     "name": "stdout",
     "output_type": "stream",
     "text": [
      "Last well executed page is 99\n"
     ]
    }
   ],
   "source": [
    "#Download the pages\n",
    "#import time\n",
    "import os\n",
    "import requests\n",
    "from bs4 import BeautifulSoup\n",
    "from tqdm import tqdm\n",
    "from random import randint\n",
    "#multiprocessing library\n",
    "\n",
    "#first open file from which we get links\n",
    "f = open(\"links.txt\",\"r\")\n",
    "lines = f.readlines()\n",
    "#seconds=60\n",
    "\n",
    "for page in tqdm(range(100,105)):\n",
    "    os.system(\"mkdir Page\"+str(page+1)) #the (page+1) is to make so we don't have the first element 0 but 1\n",
    "    os.chdir(\"Page\"+str(page+1))\n",
    "    \n",
    "    if page%2==0: start=page*50\n",
    "    if page%2!=0: start=page*50+50\n",
    "    \n",
    "    for i in range(start,start+50):\n",
    "        url=lines[i]\n",
    "        check = requests.get(url)\n",
    "        \n",
    "        #Check if the site is blocking the download\n",
    "        if check.status_code != 200:\n",
    "            print(\"Last well executed page is {}\".format(page-1))\n",
    "            while(check.status_code != 200): #Stop while we can't download\n",
    "                check = requests.get(url)\n",
    "                #os.system((\"sudo ifconfig lo 127.0.0.{}  netmask 255.0.0.0\").format(randint(0,50)))\n",
    "       \n",
    "          \n",
    "        art=open(\"article\"+str(i+1)+'.html',\"wb\")\n",
    "        art.write(check.content)\n",
    "        art.close()\n",
    "    \n",
    "    os.chdir(\"..\")"
   ]
  }
 ],
 "metadata": {
  "kernelspec": {
   "display_name": "Python 3",
   "language": "python",
   "name": "python3"
  },
  "language_info": {
   "codemirror_mode": {
    "name": "ipython",
    "version": 3
   },
   "file_extension": ".py",
   "mimetype": "text/x-python",
   "name": "python",
   "nbconvert_exporter": "python",
   "pygments_lexer": "ipython3",
   "version": "3.8.8"
  }
 },
 "nbformat": 4,
 "nbformat_minor": 5
}
