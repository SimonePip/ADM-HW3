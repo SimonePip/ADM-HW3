{
 "cells": [
  {
   "cell_type": "code",
   "execution_count": 2,
   "id": "eca3207a-268d-4d91-893e-90e63903447d",
   "metadata": {},
   "outputs": [
    {
     "name": "stderr",
     "output_type": "stream",
     "text": [
      "100%|██████████| 400/400 [05:13<00:00,  1.27it/s]\n"
     ]
    }
   ],
   "source": [
    "#Create text file with links (EXECUTE THE NEXT 2 CELLS ONLY ONCE)\n",
    "import requests\n",
    "from bs4 import BeautifulSoup\n",
    "from tqdm import tqdm\n",
    "\n",
    "anime = []\n",
    "\n",
    "for page in tqdm(range(0, 400)):\n",
    "    url = 'https://myanimelist.net/topanime.php?limit=' + str(page * 50)\n",
    "    response = requests.get(url)\n",
    "    \n",
    "    soup = BeautifulSoup(response.text, 'html.parser')\n",
    "    for tag in soup.find_all('tr'):\n",
    "        links = tag.find_all('a')\n",
    "        for link in links:        \n",
    "            if type(link.get('id')) == str and len(link.contents[0]) > 1:\n",
    "                anime.append((link.contents[0], link.get('href')) )\n"
   ]
  },
  {
   "cell_type": "code",
   "execution_count": 3,
   "id": "1eac08f9-f113-40de-b5ae-49bb13d32216",
   "metadata": {},
   "outputs": [],
   "source": [
    "f = open(\"links.txt\", \"w\")\n",
    "for el in anime:\n",
    "    f.write(str(el[1])+'\\n')\n",
    "f.close()\n",
    "#We get 19083 rows, which implies we have less than 20000 animes"
   ]
  },
  {
   "cell_type": "code",
   "execution_count": 1,
   "id": "33b42b20-a584-4c50-b9bc-89cec52348cc",
   "metadata": {
    "tags": []
   },
   "outputs": [
    {
     "name": "stderr",
     "output_type": "stream",
     "text": [
      " 16%|█▌        | 16/100 [12:21<1:11:54, 51.37s/it]"
     ]
    },
    {
     "name": "stdout",
     "output_type": "stream",
     "text": [
      "Last well executed page is 15\n",
      "Last well executed page is 15\n",
      "Last well executed page is 15\n",
      "Last well executed page is 15\n",
      "Last well executed page is 15\n"
     ]
    },
    {
     "name": "stderr",
     "output_type": "stream",
     "text": [
      " 54%|█████▍    | 54/100 [41:28<34:18, 44.76s/it]  "
     ]
    },
    {
     "name": "stdout",
     "output_type": "stream",
     "text": [
      "Last well executed page is 53\n",
      "Last well executed page is 53\n",
      "Last well executed page is 53\n",
      "Last well executed page is 53\n"
     ]
    },
    {
     "name": "stderr",
     "output_type": "stream",
     "text": [
      " 91%|█████████ | 91/100 [1:12:05<06:37, 44.15s/it]"
     ]
    },
    {
     "name": "stdout",
     "output_type": "stream",
     "text": [
      "Last well executed page is 90\n",
      "Last well executed page is 90\n",
      "Last well executed page is 90\n"
     ]
    },
    {
     "name": "stderr",
     "output_type": "stream",
     "text": [
      "100%|██████████| 100/100 [1:21:24<00:00, 48.85s/it]\n"
     ]
    }
   ],
   "source": [
    "#Download the pages\n",
    "import os\n",
    "import requests\n",
    "from bs4 import BeautifulSoup\n",
    "from tqdm import tqdm\n",
    "from random import randint\n",
    "#multiprocessing library\n",
    "\n",
    "#first open file from which we get links\n",
    "f = open(\"links.txt\",\"r\")\n",
    "lines = f.readlines()\n",
    "\n",
    "for page in tqdm(range(0,100)):\n",
    "    #Manage the directories\n",
    "    os.system(\"mkdir Page\"+str(page+1)) #the (page+1) is to make so we don't have the first element 0 but 1\n",
    "    os.chdir(\"Page\"+str(page+1))\n",
    "    \n",
    "    #These if conditions are needed to have the right indexing of the pages downloaded\n",
    "    if page%2==0: start=page*50\n",
    "    if page%2!=0: start=page*50+50\n",
    "    \n",
    "    for i in range(start,start+50):\n",
    "        url=lines[i]\n",
    "        check = requests.get(url)\n",
    "        \n",
    "        #Check if the site is blocking the download, start again when we are allowed to\n",
    "        if check.status_code != 200:\n",
    "            print(\"Last well executed page is {}\".format(page-1))\n",
    "            while(check.status_code != 200): #Stop while we can't download\n",
    "                check = requests.get(url)\n",
    "                #next line was just a try of changing the ip when the site would stop the downloads\n",
    "                #in short didn't manage to implement it\n",
    "                #os.system((\"sudo ifconfig lo 127.0.0.{}  netmask 255.0.0.0\").format(randint(0,50))) \n",
    "       \n",
    "        #Save the content of the page \n",
    "        art=open(\"article\"+str(i+1)+'.html',\"wb\")\n",
    "        art.write(check.content)\n",
    "        art.close()\n",
    "    \n",
    "    os.chdir(\"..\")"
   ]
  },
  {
   "cell_type": "code",
   "execution_count": 1,
   "id": "c26f684f-3c4d-4831-ba90-a5ef77bfecbd",
   "metadata": {},
   "outputs": [],
   "source": [
    "import re\n",
    "import os\n",
    "import requests\n",
    "from bs4 import BeautifulSoup\n",
    "from tqdm import tqdm\n",
    "from random import randint\n",
    "from datetime import datetime\n",
    "\n",
    "def Parser(art, tsv, soup):\n",
    "    \n",
    "    finder1,finder2,finder3,finder4,finder5,finder6,finder7,finder8,finder9,finder10,finder11,finder12,finder13,finder14,finder15 = \"\",\"\",\"\",\"\",\"\",\"\",\"\",\"\",\"\",\"\",\"\",\"\",\"\",\"\",\"\"\n",
    "    \n",
    "    finder1=str(soup.h1.contents).replace(\"</strong>\",\"\").replace(\"<strong>\",\"\")\n",
    "    animeTitle=finder1 \n",
    "    #print(finder1)\n",
    "    #OK\n",
    "    \n",
    "    finder2=soup.select_one(\"a[href*=type]\").contents[0].strip()\n",
    "    animeType=finder2\n",
    "    #print(finder2)\n",
    "    #OK\n",
    "        \n",
    "    #finder3=int(soup.find_all('div', {'class':\"spaceit_pad\"})[4].getText().split()[1])\n",
    "    for i in range(len(soup.find(\"div\",{\"style\":\"width: 225px\"}).find_all(\"span\",{\"class\":\"dark_text\"}))):\n",
    "        if (soup.find(\"div\",{\"style\":\"width: 225px\"}).find_all(\"div\",{\"class\":\"spaceit_pad\"})[i].contents[1].getText())==\"Episodes\":\n",
    "            finder3=int(soup.find(\"div\",{\"style\":\"width: 225px\"}).find_all(\"div\",{\"class\":\"spaceit_pad\"})[3].getText().strip().split()[1])\n",
    "    animeNumEpisode = finder3\n",
    "    #print(finder3)\n",
    "    #OK\n",
    "    \n",
    "    start=\"\"\n",
    "    end=\"\"\n",
    "    finder4=soup.find_all('div', {'class':\"spaceit_pad\"})[6].getText().split()[1:]\n",
    "    if len(finder4)>3:\n",
    "        start=datetime.strptime(\" \".join(finder4[:3]),\"%b %d, %Y\")\n",
    "        end=datetime.strptime(\" \".join(finder4[4:]), \"%b %d, %Y\")\n",
    "    else:\n",
    "        start=datetime.strptime(\" \".join(finder4[:3]),\"%b %d, %Y\")\n",
    "    \n",
    "    releaseDate=start\n",
    "    endDate=end        \n",
    "    #OK\n",
    "    \n",
    "    #finder5=soup.find_all('div', {'class':\"spaceit_pad\"})[5].getText().strip().split(\"\\n\")[1].replace(\" \",\"\")\n",
    "    #endDate = finder5\n",
    "    #print(finder5)\n",
    "    \n",
    "    \n",
    "    finder6=int(soup.find(\"span\",{\"class\":\"numbers members\"}).getText().replace(\"Members \", \"\").replace(\",\",\"\"))\n",
    "    animeNumMembers = finder6\n",
    "    #print(finder6)\n",
    "    #OK\n",
    "    \n",
    "    finder7=float(soup.find(\"div\",{\"class\":\"score-label score-9\"}).getText())\n",
    "    animeScore = finder7\n",
    "    #print(finder7)\n",
    "    #OK\n",
    "    \n",
    "    \n",
    "    finder8=int(soup.find(\"span\",{\"itemprop\":\"ratingCount\",\"style\":\"display: none\"}).getText())\n",
    "    animeUsers = finder8\n",
    "    #print(finder8)\n",
    "    #OK\n",
    "    \n",
    "    finder9=int(soup.find(\"span\", {\"class\":\"numbers ranked\"}).find(\"strong\").getText().replace(\"#\",\"\"))\n",
    "    animeRank = finder9\n",
    "    #print(finder9)\n",
    "    #OK\n",
    "    \n",
    "    finder10=int(str(soup.find(class_=\"numbers popularity\").text).split('#')[-1])  \n",
    "    animePopularity = finder10\n",
    "    #print(finder10)\n",
    "    #OK\n",
    "    \n",
    "    finder11=soup.find(\"p\",{\"itemprop\":\"description\"}).getText().replace(\"/n\",\"\")\n",
    "    animeDescription = finder11\n",
    "    #print(finder11)\n",
    "    #OK\n",
    "    \n",
    "    finder12=[]\n",
    "    for i in range(len(soup.find_all(\"li\",{\"class\":\"btn-anime\",\"style\":\"width:90px\"}))):\n",
    "        finder12.append((soup.find_all(\"li\",{\"class\":\"btn-anime\",\"style\":\"width:90px\"}))[i][\"title\"])\n",
    "    animeRelated = finder12\n",
    "    #print(finder12)\n",
    "    #OK\n",
    "    \n",
    "    finder13=[]\n",
    "    finder14=[]\n",
    "    for i in range(len(soup.find(\"div\",{\"class\":\"detail-characters-list clearfix\"}).find_all(\"img\"))):\n",
    "        if i%2==0:\n",
    "            finder13.append(\",\".join(soup.find(\"div\",{\"class\":\"detail-characters-list clearfix\"}).find_all(\"img\")[i][\"alt\"].replace(\" \",\"\").split(\",\")))\n",
    "        else:\n",
    "            finder14.append(\",\".join(soup.find(\"div\",{\"class\":\"detail-characters-list clearfix\"}).find_all(\"img\")[i][\"alt\"].replace(\" \",\"\").split(\",\")))\n",
    "    \n",
    "    animeCharacters = finder13\n",
    "    animeVoices = finder14\n",
    "    #OK\n",
    "    #print(finder13)\n",
    "    #print(finder14)\n",
    "    \n",
    "    finder15=[]\n",
    "    for i in range(len(soup.find_all(\"div\",{\"class\":\"detail-characters-list clearfix\"})[1].find_all(\"img\"))):\n",
    "        finder15.append(soup.find_all(\"div\",{\"class\":\"detail-characters-list clearfix\"})[1].find_all(\"img\")[i][\"alt\"])\n",
    "        finder15.append((soup.find_all(\"div\",{\"class\":\"detail-characters-list clearfix\"})[1].find_all(\"div\", {\"class\":\"spaceit_pad\"}))[i].getText().strip())\n",
    "    l=[]\n",
    "    for i in range(0,2*len(soup.find_all(\"div\",{\"class\":\"detail-characters-list clearfix\"})[1].find_all(\"img\")),2):\n",
    "        l.append(finder15[i:i+2])\n",
    "    animeStaff = l\n",
    "    #print(finder15)\n",
    "    \n",
    "    tsv.write(animeTitle+\"\\t\"+animeType+\"\\t\"+str(animeNumEpisode)+\"\\t\"+str(releaseDate)+\"\\t\"+str(endDate)+\"\\t\"+str(animeNumMembers)+\"\\t\"+str(animeScore)+\"\\t\"+str(animeUsers)+\"\\t\"+str(animeRank)+\"\\t\"+str(animePopularity)+\"\\t\"+animeDescription+\"\\t\"+str(animeRelated)+\"\\t\"+str(animeCharacters)+\"\\t\"+str(animeVoices)+\"\\t\"+str(animeStaff))\n",
    "    "
   ]
  },
  {
   "cell_type": "code",
   "execution_count": 1,
   "id": "84f0fe8d-3c30-4fef-b565-edcf8711c517",
   "metadata": {
    "tags": []
   },
   "outputs": [],
   "source": [
    "import os\n",
    "import requests\n",
    "from bs4 import BeautifulSoup\n",
    "from tqdm import tqdm\n",
    "def Parse2(tsv, soup):\n",
    "    animeTitle,animeType,(animeNumEpisode),(releaseDate),(endDate),(animeNumMembers),(animeScore),(animeUsers),(animeRank),(animePopularity),animeDescription,(animeRelated),(animeCharacters),(animeVoices),(animeStaff)=\"\",\"\",\"\",\"\",\"\",\"\",\"\",\"\",\"\",\"\",\"\",\"\",\"\",\"\",\"\"\n",
    "\n",
    "    left_col=soup.find('div', {'style':\"width: 225px\"})\n",
    "    l_div=left_col.find_all(\"div\",{\"class\":\"spaceit_pad\"})\n",
    "    \n",
    "    start=\"\"\n",
    "    end=\"\"\n",
    "    \n",
    "    for i in range(len(l_div)):\n",
    "        \n",
    "        if \"Type\" in l_div[i].getText():\n",
    "            animeType = l_div[i].getText().replace(\"Type:\",\"\").replace(\"\\n\",\"\").strip()\n",
    "            #print(animeType)\n",
    "            \n",
    "        if \"Episodes\" in l_div[i].getText():\n",
    "            animeNumEpisode = (l_div[i].getText().replace(\"Episodes:\",\"\").replace(\"\\n\",\"\").strip())\n",
    "            if animeNumEpisode==\"Unknown\":\n",
    "                animeNumEpisode=\"\"\n",
    "            #print(animeNumEpisode)\n",
    "        \n",
    "        if \"Aired\" in l_div[i].getText():\n",
    "            if len(l_div[i].getText().replace(\"Aired:\",\"\").replace(\"to\",\"\").strip().split())==6:\n",
    "                start=\" \".join(l_div[i].getText().replace(\"Aired:\",\"\").replace(\"to\",\"\").strip().split()[0:3])\n",
    "                end=\" \".join(l_div[i].getText().replace(\"Aired:\",\"\").replace(\"to\",\"\").strip().split()[3:6])\n",
    "                start=datetime.strptime(start,\"%b %d, %Y\")\n",
    "                end=datetime.strptime(end,\"%b %d, %Y\")\n",
    "            if len(l_div[i].getText().replace(\"Aired:\",\"\").replace(\"to\",\"\").strip().split())==3:\n",
    "                start=\" \".join(l_div[i].getText().replace(\"Aired:\",\"\").replace(\"to\",\"\").strip().split()[0:3])\n",
    "                start=datetime.strptime(start,\"%b %d, %Y\")\n",
    "            else:\n",
    "                start=end=\"\"\n",
    "            \n",
    "            releaseDate=start\n",
    "            endDate=end\n",
    "            #print(releaseDate)\n",
    "            #print(endDate)\n",
    "            \n",
    "        if (\"Score\" in l_div[i].getText()) and (i!=0) and (\"Ookiku\" not in l_div[i].getText()):\n",
    "            animeUsers = int(l_div[i].getText().replace(\"Score:\",\"\").replace(\",\",\"\").split()[3])\n",
    "            animeScore = float(l_div[i].getText().replace(\"Score:\",\"\").replace(\",\",\"\").split()[0])\n",
    "            #print(animeUsers)\n",
    "            #print(animeScore)\n",
    "        #if \"Ranked\" in l_div[i].getText():#19 >>>> conviene prenderlo da sopra il rank\n",
    "            \n",
    "        if \"Popularity\" in l_div[i].getText():  \n",
    "            animePopularity = int(l_div[i].getText().replace(\"Popularity:\",\"\").strip().replace(\"#\",\"\"))\n",
    "            #print(animePopularity)\n",
    "    \n",
    "        if \"Members\" in l_div[i].getText():\n",
    "            animeNumMembers = int(l_div[i].getText().replace(\"Members:\",\"\").strip().replace(\",\",\"\"))\n",
    "            #print(animeNumMembers)\n",
    "   \n",
    "    \n",
    "    description=soup.find(\"p\",{\"itemprop\":\"description\"})\n",
    "    animeDescription=description.getText().replace(\"/n\",\"\")\n",
    "    #print(animeDescription)\n",
    "    \n",
    "    rel=[]\n",
    "    related=soup.find_all(\"li\",{\"class\":\"btn-anime\",\"style\":\"width:90px\"})\n",
    "    for i in range(len(related)):\n",
    "        rel.append(related[i][\"title\"])\n",
    "    animeRelated = rel\n",
    "    #print(animeRelated)\n",
    "    \n",
    "    \n",
    "    chars=[]\n",
    "    voices=[]\n",
    "    staff=[]\n",
    "    l=[]\n",
    "    seed=soup.find_all(\"div\",{\"class\":\"detail-characters-list clearfix\"})\n",
    "    for i in range(len(seed)):\n",
    "        if i==0:\n",
    "            who=soup.find(\"div\",{\"class\":\"detail-characters-list clearfix\"}).find_all(\"img\")\n",
    "            for i in range(len(who)):\n",
    "                if i%2==0:\n",
    "                    chars.append(\",\".join(who[i][\"alt\"].replace(\" \",\"\").split(\",\")))\n",
    "                else:\n",
    "                    voices.append(\",\".join(who[i][\"alt\"].replace(\" \",\"\").split(\",\")))\n",
    "    \n",
    "        if i==1:\n",
    "            if (len(soup.find_all(\"div\",{\"class\":\"detail-characters-list clearfix\"}))>1):\n",
    "                for i in range(len(soup.find_all(\"div\",{\"class\":\"detail-characters-list clearfix\"})[1].find_all(\"img\"))):\n",
    "                    staff.append(soup.find_all(\"div\",{\"class\":\"detail-characters-list clearfix\"})[1].find_all(\"img\")[i][\"alt\"])\n",
    "                    staff.append((soup.find_all(\"div\",{\"class\":\"detail-characters-list clearfix\"})[1].find_all(\"div\", {\"class\":\"spaceit_pad\"}))[i].getText().strip())\n",
    "                    \n",
    "                for i in range(0,2*len(soup.find_all(\"div\",{\"class\":\"detail-characters-list clearfix\"})[1].find_all(\"img\")),2):\n",
    "                    l.append(staff[i:i+2])\n",
    "            \n",
    "            \n",
    "    animeCharacters = chars\n",
    "    animeVoices = voices\n",
    "    animeStaff = l   \n",
    "\n",
    "    #print(animeStaff)\n",
    "    \n",
    "    \n",
    "    animeTitle = soup.find(\"h1\",{\"class\":\"title-name h1_bold_none\"}).getText()\n",
    "    animeRank = int(soup.find(\"span\",{\"class\":\"numbers ranked\"}).getText().replace(\"Ranked #\",\"\"))\n",
    "    \n",
    "    tsv.write(animeTitle+\"\\t\"+animeType+\"\\t\"+str(animeNumEpisode)+\"\\t\"+str(releaseDate)+\"\\t\"+str(endDate)+\"\\t\"+str(animeNumMembers)+\"\\t\"+str(animeScore)+\"\\t\"+str(animeUsers)+\"\\t\"+str(animeRank)+\"\\t\"+str(animePopularity)+\"\\t\"+animeDescription+\"\\t\"+str(animeRelated)+\"\\t\"+str(animeCharacters)+\"\\t\"+str(animeVoices)+\"\\t\"+str(animeStaff))\n"
   ]
  },
  {
   "cell_type": "code",
   "execution_count": 23,
   "id": "d82ced0f-0665-4119-9a6f-6e304e7a2ac4",
   "metadata": {},
   "outputs": [
    {
     "data": {
      "text/plain": [
       "[['Cook, Justin', 'Producer'],\n",
       " ['Yonai, Noritomo', 'Producer'],\n",
       " ['Irie, Yasuhiro', 'Director, Episode Director, Storyboard'],\n",
       " ['Mima, Masafumi', 'Sound Director']]"
      ]
     },
     "execution_count": 23,
     "metadata": {},
     "output_type": "execute_result"
    }
   ],
   "source": [
    "import os\n",
    "import requests\n",
    "from bs4 import BeautifulSoup\n",
    "from tqdm import tqdm\n",
    "#os.chdir(\"Page1\")\n",
    "art=open(\"article1.html\")\n",
    "tsv=open(\"anime_1.tsv\",\"w\")\n",
    "soup=BeautifulSoup(art, \"html.parser\") \n",
    "\n",
    "#Parse2(tsv,soup)\n",
    "#<span class=\"numbers ranked\" \n",
    "\n",
    "animeStaff\n",
    "#finder15"
   ]
  },
  {
   "cell_type": "code",
   "execution_count": 28,
   "id": "234d962e-0b1a-44f4-b571-38db8c119617",
   "metadata": {},
   "outputs": [],
   "source": [
    "os.chdir(\"..\")"
   ]
  },
  {
   "cell_type": "code",
   "execution_count": null,
   "id": "29c3bddf-4812-46ca-9953-557a65a7827e",
   "metadata": {},
   "outputs": [
    {
     "name": "stderr",
     "output_type": "stream",
     "text": [
      " 61%|██████▏   | 27/44 [03:24<02:10,  7.65s/it]"
     ]
    }
   ],
   "source": [
    "#PARSING\n",
    "import os\n",
    "import requests\n",
    "from bs4 import BeautifulSoup\n",
    "from tqdm import tqdm\n",
    "from datetime import datetime\n",
    "\n",
    "for page in tqdm(range(56,100)):\n",
    "    \n",
    "    \n",
    "    #These if conditions are needed to have the right indexing of the pages downloaded\n",
    "    if page%2==0: start=page*50\n",
    "    if page%2!=0: start=page*50+50\n",
    "    \n",
    "    for i in range(start,start+50):\n",
    "        #Open the articles of the page \n",
    "        os.chdir(\"Page\"+str(page+1))\n",
    "        art=open(\"article\"+str(i+1)+'.html',\"r\")\n",
    "        os.chdir(\"..\")\n",
    "        os.chdir(\"TSV\")\n",
    "        tsv=open(\"anime_\"+str(i+1)+\".tsv\",\"w\")\n",
    "        \n",
    "        soup=BeautifulSoup(art.read(), \"html.parser\") \n",
    "        \n",
    "        Parse2(tsv,soup)\n",
    "        \n",
    "        art.close()\n",
    "        tsv.close()\n",
    "        os.chdir(\"..\")\n",
    "    "
   ]
  },
  {
   "cell_type": "code",
   "execution_count": 8,
   "id": "32b30ecb-dcf2-4fef-b005-53eba52d79e6",
   "metadata": {},
   "outputs": [
    {
     "name": "stdout",
     "output_type": "stream",
     "text": [
      "14 \n",
      "Score:\n",
      "7.191 (scored by 955955 users)\n",
      "      \n",
      "\n",
      "\n",
      "1\n",
      "          indicates a weighted score.\n",
      "    \n",
      "\n",
      "\n"
     ]
    }
   ],
   "source": [
    "left_col=soup.find('div', {'style':\"width: 225px\"})\n",
    "l_div=left_col.find_all(\"div\",{\"class\":\"spaceit_pad\"})\n",
    "for i in range(len(l_div)):\n",
    "    if (\"Score\" in l_div[i].getText()) and (i!=0)and (\"Ookiku\" not in l_div[i].getText()):\n",
    "        print(i,l_div[i].getText())#.replace(\"Score:\",\"\").replace(\",\",\"\").split()[3])"
   ]
  }
 ],
 "metadata": {
  "kernelspec": {
   "display_name": "Python 3",
   "language": "python",
   "name": "python3"
  },
  "language_info": {
   "codemirror_mode": {
    "name": "ipython",
    "version": 3
   },
   "file_extension": ".py",
   "mimetype": "text/x-python",
   "name": "python",
   "nbconvert_exporter": "python",
   "pygments_lexer": "ipython3",
   "version": "3.8.8"
  }
 },
 "nbformat": 4,
 "nbformat_minor": 5
}
