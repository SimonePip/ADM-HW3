{
  "nbformat": 4,
  "nbformat_minor": 0,
  "metadata": {
    "colab": {
      "name": "ADM_HW3.ipynb",
      "provenance": []
    },
    "kernelspec": {
      "name": "python3",
      "display_name": "Python 3"
    },
    "language_info": {
      "name": "python"
    }
  },
  "cells": [
    {
      "cell_type": "code",
      "metadata": {
        "id": "WF6pvUqgSryv"
      },
      "source": [
        "import pandas as pd\n",
        "import csv\n",
        "from tqdm import tqdm"
      ],
      "execution_count": 10,
      "outputs": []
    },
    {
      "cell_type": "code",
      "metadata": {
        "colab": {
          "base_uri": "https://localhost:8080/"
        },
        "id": "CFFC_hYUVm5F",
        "outputId": "cc7cd9d2-240d-4735-b0cc-c7b0da54da1f"
      },
      "source": [
        "from google.colab import drive\n",
        "drive.mount('/content/drive')"
      ],
      "execution_count": 5,
      "outputs": [
        {
          "output_type": "stream",
          "name": "stdout",
          "text": [
            "Drive already mounted at /content/drive; to attempt to forcibly remount, call drive.mount(\"/content/drive\", force_remount=True).\n"
          ]
        }
      ]
    },
    {
      "cell_type": "markdown",
      "metadata": {
        "id": "0XHYrcITLk1e"
      },
      "source": [
        "Creating a Dataframe to later insert every result into"
      ]
    },
    {
      "cell_type": "code",
      "metadata": {
        "id": "o1t-xQ3MP9TL"
      },
      "source": [
        "df = pd.DataFrame()\n",
        "df = pd.DataFrame(columns = ['animeTitle', 'animeType', 'animeNumEpisode', 'releaseDate', 'endDate', 'animeNumMembers', 'animeScore', \\\n",
        "           'animeUsers', 'animeRank', 'animePopularity', 'animeDescription', 'animeRelated', 'animeCharacters', \\\n",
        "           'animeVoices', 'animeStaff'])"
      ],
      "execution_count": 6,
      "outputs": []
    },
    {
      "cell_type": "markdown",
      "metadata": {
        "id": "ibMiY6s1L6lc"
      },
      "source": [
        "Creating the function to fill the CSV file from the TSV files"
      ]
    },
    {
      "cell_type": "code",
      "metadata": {
        "id": "3rfnRrnuQRvh",
        "colab": {
          "base_uri": "https://localhost:8080/",
          "height": 374
        },
        "outputId": "88a77c4e-97ef-43a3-fe54-ea9e1bf5ee44"
      },
      "source": [
        "path = \"/content/drive/MyDrive/HTML/anime_\"\n",
        "def fillcsv(n):\n",
        "  for elem in tqdm(range(0,n)):\n",
        "    if elem != 4016 and elem != 4894:\n",
        "      tsv_file = open(path+str(elem)+\".tsv\")\n",
        "      read_tsv = csv.reader(tsv_file, delimiter=\"\\t\")\n",
        "      for anime in read_tsv:\n",
        "        if len(anime) > 11 :\n",
        "          anime = anime[0:15]\n",
        "          df.loc[elem] = anime"
      ],
      "execution_count": 16,
      "outputs": [
        {
          "output_type": "stream",
          "name": "stderr",
          "text": [
            " 84%|████████▍ | 16137/19121 [1:18:58<14:36,  3.41it/s]\n"
          ]
        },
        {
          "output_type": "error",
          "ename": "KeyboardInterrupt",
          "evalue": "ignored",
          "traceback": [
            "\u001b[0;31m---------------------------------------------------------------------------\u001b[0m",
            "\u001b[0;31mKeyboardInterrupt\u001b[0m                         Traceback (most recent call last)",
            "\u001b[0;32m<ipython-input-16-631266c96d43>\u001b[0m in \u001b[0;36m<module>\u001b[0;34m()\u001b[0m\n\u001b[1;32m     11\u001b[0m \u001b[0;34m\u001b[0m\u001b[0m\n\u001b[1;32m     12\u001b[0m \u001b[0;34m\u001b[0m\u001b[0m\n\u001b[0;32m---> 13\u001b[0;31m \u001b[0mfillcsv\u001b[0m\u001b[0;34m(\u001b[0m\u001b[0;36m19121\u001b[0m\u001b[0;34m)\u001b[0m\u001b[0;34m\u001b[0m\u001b[0;34m\u001b[0m\u001b[0m\n\u001b[0m\u001b[1;32m     14\u001b[0m \u001b[0mdisplay\u001b[0m\u001b[0;34m(\u001b[0m\u001b[0mdf\u001b[0m\u001b[0;34m)\u001b[0m\u001b[0;34m\u001b[0m\u001b[0;34m\u001b[0m\u001b[0m\n",
            "\u001b[0;32m<ipython-input-16-631266c96d43>\u001b[0m in \u001b[0;36mfillcsv\u001b[0;34m(n)\u001b[0m\n\u001b[1;32m      5\u001b[0m       \u001b[0mtsv_file\u001b[0m \u001b[0;34m=\u001b[0m \u001b[0mopen\u001b[0m\u001b[0;34m(\u001b[0m\u001b[0mpath\u001b[0m\u001b[0;34m+\u001b[0m\u001b[0mstr\u001b[0m\u001b[0;34m(\u001b[0m\u001b[0melem\u001b[0m\u001b[0;34m)\u001b[0m\u001b[0;34m+\u001b[0m\u001b[0;34m\".tsv\"\u001b[0m\u001b[0;34m)\u001b[0m\u001b[0;34m\u001b[0m\u001b[0;34m\u001b[0m\u001b[0m\n\u001b[1;32m      6\u001b[0m       \u001b[0mread_tsv\u001b[0m \u001b[0;34m=\u001b[0m \u001b[0mcsv\u001b[0m\u001b[0;34m.\u001b[0m\u001b[0mreader\u001b[0m\u001b[0;34m(\u001b[0m\u001b[0mtsv_file\u001b[0m\u001b[0;34m,\u001b[0m \u001b[0mdelimiter\u001b[0m\u001b[0;34m=\u001b[0m\u001b[0;34m\"\\t\"\u001b[0m\u001b[0;34m)\u001b[0m\u001b[0;34m\u001b[0m\u001b[0;34m\u001b[0m\u001b[0m\n\u001b[0;32m----> 7\u001b[0;31m       \u001b[0;32mfor\u001b[0m \u001b[0manime\u001b[0m \u001b[0;32min\u001b[0m \u001b[0mread_tsv\u001b[0m\u001b[0;34m:\u001b[0m\u001b[0;34m\u001b[0m\u001b[0;34m\u001b[0m\u001b[0m\n\u001b[0m\u001b[1;32m      8\u001b[0m         \u001b[0;32mif\u001b[0m \u001b[0mlen\u001b[0m\u001b[0;34m(\u001b[0m\u001b[0manime\u001b[0m\u001b[0;34m)\u001b[0m \u001b[0;34m>\u001b[0m \u001b[0;36m11\u001b[0m \u001b[0;34m:\u001b[0m\u001b[0;34m\u001b[0m\u001b[0;34m\u001b[0m\u001b[0m\n\u001b[1;32m      9\u001b[0m           \u001b[0manime\u001b[0m \u001b[0;34m=\u001b[0m \u001b[0manime\u001b[0m\u001b[0;34m[\u001b[0m\u001b[0;36m0\u001b[0m\u001b[0;34m:\u001b[0m\u001b[0;36m15\u001b[0m\u001b[0;34m]\u001b[0m\u001b[0;34m\u001b[0m\u001b[0;34m\u001b[0m\u001b[0m\n",
            "\u001b[0;32m/usr/lib/python3.7/codecs.py\u001b[0m in \u001b[0;36mdecode\u001b[0;34m(self, input, final)\u001b[0m\n\u001b[1;32m    317\u001b[0m         \u001b[0;32mraise\u001b[0m \u001b[0mNotImplementedError\u001b[0m\u001b[0;34m\u001b[0m\u001b[0;34m\u001b[0m\u001b[0m\n\u001b[1;32m    318\u001b[0m \u001b[0;34m\u001b[0m\u001b[0m\n\u001b[0;32m--> 319\u001b[0;31m     \u001b[0;32mdef\u001b[0m \u001b[0mdecode\u001b[0m\u001b[0;34m(\u001b[0m\u001b[0mself\u001b[0m\u001b[0;34m,\u001b[0m \u001b[0minput\u001b[0m\u001b[0;34m,\u001b[0m \u001b[0mfinal\u001b[0m\u001b[0;34m=\u001b[0m\u001b[0;32mFalse\u001b[0m\u001b[0;34m)\u001b[0m\u001b[0;34m:\u001b[0m\u001b[0;34m\u001b[0m\u001b[0;34m\u001b[0m\u001b[0m\n\u001b[0m\u001b[1;32m    320\u001b[0m         \u001b[0;31m# decode input (taking the buffer into account)\u001b[0m\u001b[0;34m\u001b[0m\u001b[0;34m\u001b[0m\u001b[0;34m\u001b[0m\u001b[0m\n\u001b[1;32m    321\u001b[0m         \u001b[0mdata\u001b[0m \u001b[0;34m=\u001b[0m \u001b[0mself\u001b[0m\u001b[0;34m.\u001b[0m\u001b[0mbuffer\u001b[0m \u001b[0;34m+\u001b[0m \u001b[0minput\u001b[0m\u001b[0;34m\u001b[0m\u001b[0;34m\u001b[0m\u001b[0m\n",
            "\u001b[0;31mKeyboardInterrupt\u001b[0m: "
          ]
        }
      ]
    },
    {
      "cell_type": "code",
      "metadata": {
        "id": "fcKDSdjnMDir"
      },
      "source": [
        ""
      ],
      "execution_count": null,
      "outputs": []
    },
    {
      "cell_type": "markdown",
      "metadata": {
        "id": "Vh7nuP-d_Hrn"
      },
      "source": [
        "#CREATING INDEX AND SEARCH ENGINE"
      ]
    },
    {
      "cell_type": "markdown",
      "metadata": {
        "id": "IjtgnrXoLBm-"
      },
      "source": [
        "Importing library for stopwords removal\n"
      ]
    },
    {
      "cell_type": "code",
      "metadata": {
        "id": "Qkmk93Ek_jvZ"
      },
      "source": [
        "import nltk\n",
        "from nltk.corpus import stopwords\n",
        "print(stopwords.words('english'))"
      ],
      "execution_count": null,
      "outputs": []
    },
    {
      "cell_type": "markdown",
      "metadata": {
        "id": "4zX8ywQLLJgB"
      },
      "source": [
        "Here i removed the stopwords while creating the index for every word in the dataframe anime descriptions"
      ]
    },
    {
      "cell_type": "code",
      "metadata": {
        "colab": {
          "base_uri": "https://localhost:8080/"
        },
        "id": "hkBE8bY0_HOT",
        "outputId": "d0c72411-1ba2-4341-9058-03cf65190e36"
      },
      "source": [
        "import nltk\n",
        "from collections import defaultdict\n",
        "word_index = defaultdict(list)\n",
        "#n will run through the length of the dataframe\n",
        "n = df.shape[0]\n",
        "for i in tqdm(range(0,n)):\n",
        "  #fetching the anime descriptions\n",
        "  desc = df.iloc[i]['animeDescription']\n",
        "  splitted = desc.split(\" \")\n",
        "  #creating the dictionary for the indices\n",
        "  for parola in splitted:\n",
        "    if parola not in stopwords.words('english'):\n",
        "      if parola not in word_index:\n",
        "        word_index[parola] = [[i]]\n",
        "      else:\n",
        "        if [i] not in word_index[parola]:\n",
        "          word_index[parola].append([i])"
      ],
      "execution_count": 85,
      "outputs": [
        {
          "output_type": "stream",
          "name": "stderr",
          "text": [
            "100%|██████████| 7451/7451 [00:23<00:00, 315.79it/s]\n"
          ]
        }
      ]
    },
    {
      "cell_type": "markdown",
      "metadata": {
        "id": "qcnvRdS_LSCa"
      },
      "source": [
        "Here i created 2 functions, one to fetch a list of elements from a list of lists and the other one to fetch out the indices of the query result"
      ]
    },
    {
      "cell_type": "code",
      "metadata": {
        "id": "WOBmDNTaGSHI"
      },
      "source": [
        "def listoflists(list):\n",
        "  flat_list = []\n",
        "  for elem in list:\n",
        "    flat_2 = []\n",
        "    for single in elem:\n",
        "      flat_2.append(single[0])\n",
        "    flat_list.append(flat_2)\n",
        "  return flat_list\n",
        "\n",
        "def search_engine(query,dataset):\n",
        "  query = query.split(\" \")\n",
        "  f = len(query)\n",
        "  query_indices = []\n",
        "  for index in query:\n",
        "    query_indices.append(word_index[index])  \n",
        "  query_indices = set.intersection(*map(set,listoflists(query_indices)))\n",
        "  return(query_indices)"
      ],
      "execution_count": 192,
      "outputs": []
    },
    {
      "cell_type": "markdown",
      "metadata": {
        "id": "T_rbUj7PLaKS"
      },
      "source": [
        "Testing the query for a random input from the user"
      ]
    },
    {
      "cell_type": "code",
      "metadata": {
        "colab": {
          "base_uri": "https://localhost:8080/"
        },
        "id": "OwufJsPvALpG",
        "outputId": "3f20e18d-92a3-45b6-8b7d-94aab8ae4c96"
      },
      "source": [
        "query = str(input(\"Insert your anime features: \"))\n",
        "search_engine(query,df)"
      ],
      "execution_count": 193,
      "outputs": [
        {
          "name": "stdout",
          "output_type": "stream",
          "text": [
            "inserisci qui il tuo hentai ricercato: warrior war\n"
          ]
        },
        {
          "output_type": "execute_result",
          "data": {
            "text/plain": [
              "{760}"
            ]
          },
          "metadata": {},
          "execution_count": 193
        }
      ]
    }
  ]
}